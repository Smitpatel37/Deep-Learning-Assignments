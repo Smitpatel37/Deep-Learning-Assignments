{
  "cells": [
    {
      "cell_type": "markdown",
      "metadata": {
        "id": "qvMa0xUr4oWJ"
      },
      "source": [
        "# Variational Autoencoders\n"
      ]
    },
    {
      "cell_type": "markdown",
      "metadata": {
        "id": "myznXY1I-Q3d"
      },
      "source": [
        " ### GENERAL INFORMATION\n",
        " * Deep Learning – Summer term 2022\n",
        " * Instructor: Constantin Pape\n",
        " * Due date: **Friday July 15th, until the end of the day** (so that we can discuss it in the last tutorial on Monday the 18th)\n",
        "\n",
        "In this exercise a variational autoencoder (VAE) shall be implemented and trained on the fashion MNIST dataset. VAEs are an example of generative deep learning and can be used to synthesize data - images in this case - which shall also be demonstrated in this exercise!"
      ]
    },
    {
      "cell_type": "markdown",
      "metadata": {
        "id": "ZzBH5szN6dIL"
      },
      "source": [
        "### IMPORTANT SUBMISSION INSTRUCTIONS\n",
        "\n",
        "- When you're done, download the notebook and rename it to ```<surname1>_<surname2>_<surname3>.ipynb```\n",
        "- Only submit the ipynb file, no other file is required\n",
        "- Submit only once\n",
        "- The deadline is strict\n",
        "- You are required to present your solution in the tutorial; submission of the notebook alone is not sufficient"
      ]
    },
    {
      "cell_type": "markdown",
      "metadata": {
        "id": "N9E2cRSweAkM"
      },
      "source": [
        "### TASKS\n",
        "* TASK 1: Implement a VAE\n",
        "* TASK 2: Train the model and plot train+test set loss over training in the same plot\n",
        "* TASK 3: Determine optimal dimensionality of latent space\n",
        "* TASK 4: Plot some latent traversals\n",
        "* TASK 5: Visualize class labels in latent space\n"
      ]
    },
    {
      "cell_type": "markdown",
      "metadata": {
        "id": "ZSyGC9TH5qwg"
      },
      "source": [
        "## Setup and requirements"
      ]
    },
    {
      "cell_type": "markdown",
      "metadata": {
        "id": "YaX8zMh6PNq0"
      },
      "source": [
        "### Imports"
      ]
    },
    {
      "cell_type": "code",
      "execution_count": 1,
      "metadata": {
        "id": "FaCNQC0aPRrs",
        "colab": {
          "base_uri": "https://localhost:8080/"
        },
        "outputId": "a58414fe-2940-4c54-cea2-8692b9b0c8ae"
      },
      "outputs": [
        {
          "output_type": "stream",
          "name": "stdout",
          "text": [
            "nvcc: NVIDIA (R) Cuda compiler driver\n",
            "Copyright (c) 2005-2020 NVIDIA Corporation\n",
            "Built on Mon_Oct_12_20:09:46_PDT_2020\n",
            "Cuda compilation tools, release 11.1, V11.1.105\n",
            "Build cuda_11.1.TC455_06.29190527_0\n",
            "Python 3.7.13\n",
            "1.12.0+cu113\n"
          ]
        }
      ],
      "source": [
        "from __future__ import print_function\n",
        "import pathlib\n",
        "\n",
        "import matplotlib.pyplot as plt\n",
        "\n",
        "import torch\n",
        "import torch.utils.data\n",
        "\n",
        "from torch import nn, optim\n",
        "from torch.nn import functional as F\n",
        "from torchvision import datasets, transforms\n",
        "import torchvision.utils\n",
        "\n",
        "import numpy as np\n",
        "\n",
        "!nvcc --version\n",
        "!python --version\n",
        "print(torch.__version__)"
      ]
    },
    {
      "cell_type": "markdown",
      "metadata": {
        "id": "kX893ozpPyoV"
      },
      "source": [
        "### Basic setup"
      ]
    },
    {
      "cell_type": "markdown",
      "metadata": {
        "id": "TgExPcYmXZJd"
      },
      "source": [
        "Define various global parameters used throughout the notebook!"
      ]
    },
    {
      "cell_type": "code",
      "execution_count": 2,
      "metadata": {
        "id": "UsnqQfPcWCFU",
        "colab": {
          "base_uri": "https://localhost:8080/",
          "height": 34
        },
        "outputId": "80060306-461c-457a-94c7-ff844fddd4d2"
      },
      "outputs": [
        {
          "output_type": "display_data",
          "data": {
            "text/plain": [
              "<Figure size 432x288 with 0 Axes>"
            ]
          },
          "metadata": {}
        }
      ],
      "source": [
        "# Try to use GPU if available\n",
        "use_cuda = True\n",
        "\n",
        "# Path for data\n",
        "data_dir = pathlib.Path('data/')\n",
        "\n",
        "# Batch size\n",
        "batch_size = 128\n",
        "\n",
        "# Image size (same size in both dimensions)\n",
        "image_size = 28\n",
        "\n",
        "# Dimension of the latent space\n",
        "latent_space_dim = 10\n",
        "\n",
        "# Number of epochs to train\n",
        "epochs = 5\n",
        "\n",
        "# Channels in the convolutional layers\n",
        "capacity = 32\n",
        "\n",
        "# Learning rate for the optimizer\n",
        "learning_rate = 1e-3\n",
        "\n",
        "# Define size / zoom level of plots\n",
        "plot_zoom = 2\n",
        "plot_w, plot_h = plt.figure().get_size_inches()\n",
        "plot_w = plot_w * plot_zoom\n",
        "plot_h = plot_h * plot_zoom"
      ]
    },
    {
      "cell_type": "markdown",
      "metadata": {
        "id": "EB6YV4iQXXMZ"
      },
      "source": [
        "Test if a GPU (CUDA) is available in the environment and use it if it is. Otherwise use the CPU."
      ]
    },
    {
      "cell_type": "code",
      "execution_count": 3,
      "metadata": {
        "id": "0HWtFEuWQFFq",
        "colab": {
          "base_uri": "https://localhost:8080/"
        },
        "outputId": "84ce88a6-2fcd-4da4-8196-4159aa30b373"
      },
      "outputs": [
        {
          "output_type": "stream",
          "name": "stdout",
          "text": [
            "Info: cuda requested and available, will use gpu!\n"
          ]
        }
      ],
      "source": [
        "if use_cuda and not torch.cuda.is_available():\n",
        "    print(\"Error: cuda requested but not available, will use cpu instead!\")\n",
        "    device = torch.device('cpu')\n",
        "elif not use_cuda:\n",
        "    print(\"Info: will use cpu!\")\n",
        "    device = torch.device('cpu')\n",
        "else:\n",
        "    print(\"Info: cuda requested and available, will use gpu!\")\n",
        "    device = torch.device('cuda')\n"
      ]
    },
    {
      "cell_type": "markdown",
      "metadata": {
        "id": "--F0Vtqf-P7N"
      },
      "source": [
        "## Get and preprocess the data\n"
      ]
    },
    {
      "cell_type": "markdown",
      "metadata": {
        "id": "VEsItBtJUOmS"
      },
      "source": [
        "We will use the FashionMNIST data set from Zalando (https://github.com/zalandoresearch/fashion-mnist) for our experiments.  \n",
        "From the quoted github-repo: \"Fashion-MNIST is a dataset of Zalando's article images—consisting of a training set of 60,000 examples and a test set of 10,000 examples. Each example is a 28x28 grayscale image, associated with a label from 10 classes. We intend Fashion-MNIST to serve as a direct drop-in replacement for the original MNIST dataset for benchmarking machine learning algorithms. It shares the same image size and structure of training and testing splits.\"\n"
      ]
    },
    {
      "cell_type": "markdown",
      "metadata": {
        "id": "IkKBH1DfVQJr"
      },
      "source": [
        "### Load the data for training and testing"
      ]
    },
    {
      "cell_type": "markdown",
      "metadata": {
        "id": "XPO6AkjAITMa"
      },
      "source": [
        "The FashionMNIST dataset is already included in the torchvision datasets with the approriate training and test splits. Run the cell below to use it in this notebook."
      ]
    },
    {
      "cell_type": "code",
      "execution_count": 4,
      "metadata": {
        "id": "rrtg9zz_Vjhy",
        "colab": {
          "base_uri": "https://localhost:8080/",
          "height": 443,
          "referenced_widgets": [
            "2df343edbe6a4da4b38cdeb3ca15de64",
            "4bd93ae267964f9c834361459dcfe117",
            "f7a70f1edc0240adaef9e9da5829a136",
            "f0c48a5a9a434353a14a41884b451feb",
            "bc0742056e2f40a6981791dc6d13faf5",
            "8477585a96fb460b88973f73ff68bf64",
            "b2ff2c33301f4fdaa5ce05429fc5919a",
            "89cf74921c294d8683cffe6eabba298e",
            "7ab8f3630c3348a6aa86e6b5223e5604",
            "d3b411de73e9433a9830e07c23cfc695",
            "ae4bf424c14e408bb7f22781e006d01e",
            "e7a51be334da424d89dca9e6c5873897",
            "427e11d463ff4ec0b34cf25631ac6bb5",
            "4c4ea315b89741409a4ae7e5e4dd9542",
            "2f56dbc9b14148899310c9584fd5ad2c",
            "96f8b46bf7e8472c98069d6c3fcc7479",
            "12262ff811374e478817047b8633586b",
            "d8048b4ed79049a28e3a4f3bb075e60c",
            "1bed9332710f434ab18bfdd8d5752ece",
            "693948644d3a45838ed592fdeca27043",
            "ec94c560035e42598f712830f4dc01e4",
            "551c3b25d246427b9f99f563d47a5ce9",
            "48e046c95ca94a34b39f2077bec882ff",
            "694a8cd935d4436db007c06ddb7a6b2b",
            "371157fb8f0b4b619b4fea3474adc4d4",
            "4d0df2486747440d972fcf2e88ac499c",
            "b4af95e006384405aa40f223cfd6f7a8",
            "7bb66da654384930806c448cc5a0c213",
            "098234e8292f4ba6b2977c1f0c44f75d",
            "2f30a1cf43b1485c95a538bcfdce79a1",
            "625ffdae30604430833253256a7113e0",
            "6421d08b48084fd4b2dcf6394c067277",
            "df1d60fce81149c19a7203f425a243f3",
            "ec07a43a243546d7a3e0de3e640c7352",
            "ac629d04bed74d5f84ce9021b5db118f",
            "ca47b4f3e7824a6a96e9fd9ba46dbd71",
            "492cdb703a4d49a0a02801988805fe10",
            "4ccfab31f2904d1185262775f1ccf546",
            "9778cf4829bb4d698466f8f09279ce82",
            "de4591e46cdd4b69b530956e9bdb52b5",
            "00cb7e4bddc84d109fa14743fa881675",
            "7cd1fcd714b54e68872a016e1b3d3e4f",
            "84a1a7f89c194e4fbca3e841ebbfa349",
            "8accb6ce36394f708bdea00229bb6f36"
          ]
        },
        "outputId": "9d9761e4-4a55-4e05-a3c0-5f604e9d3ecc"
      },
      "outputs": [
        {
          "output_type": "stream",
          "name": "stdout",
          "text": [
            "Downloading http://fashion-mnist.s3-website.eu-central-1.amazonaws.com/train-images-idx3-ubyte.gz\n",
            "Downloading http://fashion-mnist.s3-website.eu-central-1.amazonaws.com/train-images-idx3-ubyte.gz to ./data/FashionMNIST/raw/train-images-idx3-ubyte.gz\n"
          ]
        },
        {
          "output_type": "display_data",
          "data": {
            "text/plain": [
              "  0%|          | 0/26421880 [00:00<?, ?it/s]"
            ],
            "application/vnd.jupyter.widget-view+json": {
              "version_major": 2,
              "version_minor": 0,
              "model_id": "2df343edbe6a4da4b38cdeb3ca15de64"
            }
          },
          "metadata": {}
        },
        {
          "output_type": "stream",
          "name": "stdout",
          "text": [
            "Extracting ./data/FashionMNIST/raw/train-images-idx3-ubyte.gz to ./data/FashionMNIST/raw\n",
            "\n",
            "Downloading http://fashion-mnist.s3-website.eu-central-1.amazonaws.com/train-labels-idx1-ubyte.gz\n",
            "Downloading http://fashion-mnist.s3-website.eu-central-1.amazonaws.com/train-labels-idx1-ubyte.gz to ./data/FashionMNIST/raw/train-labels-idx1-ubyte.gz\n"
          ]
        },
        {
          "output_type": "display_data",
          "data": {
            "text/plain": [
              "  0%|          | 0/29515 [00:00<?, ?it/s]"
            ],
            "application/vnd.jupyter.widget-view+json": {
              "version_major": 2,
              "version_minor": 0,
              "model_id": "e7a51be334da424d89dca9e6c5873897"
            }
          },
          "metadata": {}
        },
        {
          "output_type": "stream",
          "name": "stdout",
          "text": [
            "Extracting ./data/FashionMNIST/raw/train-labels-idx1-ubyte.gz to ./data/FashionMNIST/raw\n",
            "\n",
            "Downloading http://fashion-mnist.s3-website.eu-central-1.amazonaws.com/t10k-images-idx3-ubyte.gz\n",
            "Downloading http://fashion-mnist.s3-website.eu-central-1.amazonaws.com/t10k-images-idx3-ubyte.gz to ./data/FashionMNIST/raw/t10k-images-idx3-ubyte.gz\n"
          ]
        },
        {
          "output_type": "display_data",
          "data": {
            "text/plain": [
              "  0%|          | 0/4422102 [00:00<?, ?it/s]"
            ],
            "application/vnd.jupyter.widget-view+json": {
              "version_major": 2,
              "version_minor": 0,
              "model_id": "48e046c95ca94a34b39f2077bec882ff"
            }
          },
          "metadata": {}
        },
        {
          "output_type": "stream",
          "name": "stdout",
          "text": [
            "Extracting ./data/FashionMNIST/raw/t10k-images-idx3-ubyte.gz to ./data/FashionMNIST/raw\n",
            "\n",
            "Downloading http://fashion-mnist.s3-website.eu-central-1.amazonaws.com/t10k-labels-idx1-ubyte.gz\n",
            "Downloading http://fashion-mnist.s3-website.eu-central-1.amazonaws.com/t10k-labels-idx1-ubyte.gz to ./data/FashionMNIST/raw/t10k-labels-idx1-ubyte.gz\n"
          ]
        },
        {
          "output_type": "display_data",
          "data": {
            "text/plain": [
              "  0%|          | 0/5148 [00:00<?, ?it/s]"
            ],
            "application/vnd.jupyter.widget-view+json": {
              "version_major": 2,
              "version_minor": 0,
              "model_id": "ec07a43a243546d7a3e0de3e640c7352"
            }
          },
          "metadata": {}
        },
        {
          "output_type": "stream",
          "name": "stdout",
          "text": [
            "Extracting ./data/FashionMNIST/raw/t10k-labels-idx1-ubyte.gz to ./data/FashionMNIST/raw\n",
            "\n"
          ]
        }
      ],
      "source": [
        "# Load the datasets similar like you did with standard MNIST before\n",
        "train_dataset = torchvision.datasets.FashionMNIST(\"./data\", download=True, transform=\n",
        "                                                transforms.Compose([transforms.ToTensor()]))\n",
        "test_dataset = torchvision.datasets.FashionMNIST(\"./data\", download=True, train=False, transform=\n",
        "                                               transforms.Compose([transforms.ToTensor()]))  "
      ]
    },
    {
      "cell_type": "markdown",
      "metadata": {
        "id": "GwQlNPQGIhuO"
      },
      "source": [
        "For comparison, you can also use the well known MNIST dataset, which is also already included in the torchvision datasets with the approriate training and test splits. Just run the cell included in the appendix instead if you want to use it in this notebook."
      ]
    },
    {
      "cell_type": "markdown",
      "metadata": {
        "id": "cFhBVqsgJyz2"
      },
      "source": [
        "Define data loaders for the training and test sets which return batches of samples."
      ]
    },
    {
      "cell_type": "code",
      "execution_count": 5,
      "metadata": {
        "id": "T33MobpKvcTy"
      },
      "outputs": [],
      "source": [
        "# Define the data loaders\n",
        "train_loader = torch.utils.data.DataLoader(train_dataset, batch_size=batch_size)\n",
        "test_loader = torch.utils.data.DataLoader(test_dataset, batch_size=batch_size)"
      ]
    },
    {
      "cell_type": "markdown",
      "metadata": {
        "id": "ewL37pDOn8a2"
      },
      "source": [
        "### Plot the data"
      ]
    },
    {
      "cell_type": "markdown",
      "metadata": {
        "id": "kAa_6IrZC9K_"
      },
      "source": [
        "To get an impression of the dataset plot some random exemplary pictures."
      ]
    },
    {
      "cell_type": "code",
      "execution_count": 6,
      "metadata": {
        "id": "8EAt7rLOn_zC",
        "colab": {
          "base_uri": "https://localhost:8080/",
          "height": 437
        },
        "outputId": "0beaa269-62a2-488b-8064-0a5b333ab42c"
      },
      "outputs": [
        {
          "output_type": "display_data",
          "data": {
            "text/plain": [
              "<Figure size 864x576 with 1 Axes>"
            ],
            "image/png": "[encoded data removed]"
          },
          "metadata": {
            "needs_background": "light"
          }
        }
      ],
      "source": [
        "images_columns = 10\n",
        "images_rows    = 6\n",
        "\n",
        "def show_grid(images_tensor, images_columns, images_rows):\n",
        "    image = torchvision.utils.make_grid(images_tensor, images_columns, images_rows)\n",
        "    image = image.numpy()\n",
        "    fig = plt.gcf()\n",
        "    fig.set_size_inches(plot_w, plot_h)\n",
        "    plt.axis('off')\n",
        "    plt.imshow(np.transpose(image, (1, 2, 0)))\n",
        "    plt.show()\n",
        "\n",
        "data_iterator = iter(train_loader)\n",
        "images, labels = data_iterator.next()\n",
        "\n",
        "show_grid(images[0:(images_columns * images_rows)], images_columns, images_rows)\n"
      ]
    },
    {
      "cell_type": "markdown",
      "metadata": {
        "id": "bOJ3IzMu-inG"
      },
      "source": [
        "## Implement a convolutional Variational Autoencoder (VAE)"
      ]
    },
    {
      "cell_type": "markdown",
      "metadata": {
        "id": "uRyKvBKU-rkh"
      },
      "source": [
        "### Implement the network architecture"
      ]
    },
    {
      "cell_type": "markdown",
      "metadata": {
        "id": "o8bZZMMYpYSR"
      },
      "source": [
        "Recall that a VAE roughly consistst of two parts: The encoder (which reduces the number of dimensions and maps the input to the latent space) and the decoder (which reverses the encoding, mapping from the latent space back to the initial space)."
      ]
    },
    {
      "cell_type": "markdown",
      "metadata": {
        "id": "jTCPi77OucL9"
      },
      "source": [
        "![image.png](data:image/png;base64,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)"
      ]
    },
    {
      "cell_type": "markdown",
      "metadata": {
        "id": "T67LLwDtrhN8"
      },
      "source": [
        "**TASK 1: Implement a VAE with the following network architecture**\n",
        "\n",
        "We will implement a basic convolutional VAE architecture. Look at the following VAE class template and loss function and implement the missing parts according to the following specification: \n",
        "\n",
        "**Encoder (sequential model):**\n",
        " * Convolutional Layer with (1, capacity) number of (in, out)-channels, kernel size of 4 * 4, stride of 2 and padding of 1\n",
        " * ReLU Activation Layer\n",
        " * Convolutional Layer with (capacity, 2 * capacity) number of (in, out)-channels, kernel size of 4 * 4, stride of 2 and padding of 1\n",
        " * ReLU Activation Layer\n",
        " \n",
        "**Sampling:**\n",
        "* mu, logvar: Linear Layer with 2 * capacity * 7 * 7 input features and latent_dims output features each \n",
        "* z: Linear Layer with latent_dims input features and 2 * capacity * 7 * 7 output features\n",
        "\n",
        "**Decoder (sequential model):**\n",
        " * ConvTranspose2d Layer with (2 * capacity, capacity) number of (in, out)-channels, kernel size of 4 * 4, stride of 2 and padding of 1 \n",
        " * ReLU Activation Layer\n",
        " * ConvTranspose2d Layer with (capacity, 1) number of (in, out)-channels, kernel size of 4 * 4, stride of 2 and padding of 1 \n",
        " * Sigmoid Activation Layer\n",
        "\n"
      ]
    },
    {
      "cell_type": "markdown",
      "metadata": {
        "id": "n-mOkRjWqa4B"
      },
      "source": [
        "**Hint**\n",
        "\n",
        "For the sampling use the reparameterization trick:\n",
        "\n",
        "To generate x ~ N(μ, σ²), sample ε ~ N(0, 1). Then x can be computed as x = μ + σε."
      ]
    },
    {
      "cell_type": "markdown",
      "metadata": {
        "id": "aTXNDuDdwUHE"
      },
      "source": [
        "**TODO** What does the trick do and why do we need it?\n",
        "\n",
        "**YOUR ANSWER**\n",
        "The decoder needs to sample from the estimated posterior, but backpropagation cannot flow through a randomly chosen node to continue learningö. What the trick does is that it samples from a gaussian distribution with learnable parameters μ, σ², while adding some small noise ε so that the distribution does not shift much. The parameters keep the whole network connected and backpropagating"
      ]
    },
    {
      "cell_type": "code",
      "execution_count": 18,
      "metadata": {
        "id": "X4Z5nTEixKxC"
      },
      "outputs": [],
      "source": [
        "# TODO Implement the VAE\n",
        "class VAE(nn.Module):\n",
        "    def __init__(self, latent_space_dim):\n",
        "        super().__init__()\n",
        "        self.conv1 = nn.Conv2d(1,capacity,4,2,1)\n",
        "        self.relu = nn.ReLU()\n",
        "        self.conv2 = nn.Conv2d(capacity,capacity*2,4,2,1)\n",
        "        self.mu = nn.Linear(2*7*7*capacity, latent_space_dim)\n",
        "        self.logvar = nn.Linear(2*7*7*capacity, latent_space_dim)\n",
        "        self.z = nn.Linear(latent_space_dim, 2*capacity*7*7)\n",
        "        self.conv3 = nn.ConvTranspose2d(capacity*2,capacity,4,2,1)\n",
        "        self.conv4 = nn.ConvTranspose2d(capacity,1,4,2,1)\n",
        "        self.sig = nn.Sigmoid()\n",
        "        self.flatt = nn.Flatten(start_dim=1)\n",
        "\n",
        "    def encode(self, x):\n",
        "        h1 = self.conv1(x)\n",
        "        h1 = self.relu(h1)\n",
        "        h2 = self.conv2(h1)\n",
        "\n",
        "        h2 = self.relu(h2)\n",
        "        self.sh = h2.shape[0]\n",
        "        h2 = self.flatt(h2)\n",
        "        z_mean , z_logvar = self.mu(h2), self.logvar(h2)\n",
        "        encoded = self.reparameterize(z_mean, z_logvar)\n",
        "        h3 = self.z(encoded)\n",
        "        print('i1')\n",
        "        return h3,z_mean,z_logvar\n",
        "\n",
        "    def reparameterize(self, mu, logvar):\n",
        "\n",
        "        std = torch.exp(0.5*logvar)\n",
        "        eps = torch.rand_like(std)\n",
        "        return mu + eps*std\n",
        "\n",
        "    def decode(self, z):\n",
        "\n",
        "        #h3 = z.reshape((128,64,7,7))\n",
        "        h3 = self.conv3(z.reshape(z.shape[0],64,7,7))\n",
        "        h3 = self.relu(h3)\n",
        "        h4 = self.conv4(h3)\n",
        "        h4 = self.sig(h4)\n",
        "        print('i2')\n",
        "        return h4\n",
        "\n",
        "    def forward(self, x):\n",
        "        encode_out,mu,logvar  = self.encode(x)  \n",
        "        return self.decode(encode_out),mu, logvar"
      ]
    },
    {
      "cell_type": "markdown",
      "metadata": {
        "id": "1MgpHg98-zxz"
      },
      "source": [
        "### Implement the loss function"
      ]
    },
    {
      "cell_type": "markdown",
      "metadata": {
        "id": "wybNGcxHr6DG"
      },
      "source": [
        "Implement the two parts of the loss function: reconstruction loss using Mean Squared Error (MSE) function and the regularization part of the loss using Kullback-Leibler-Divergence (KLD)."
      ]
    },
    {
      "cell_type": "markdown",
      "metadata": {
        "id": "UZHueAxXqa4E"
      },
      "source": [
        "**Hint:** Make sure that you use sum instead of mean for calculating the MSE loss!"
      ]
    },
    {
      "cell_type": "code",
      "source": [
        "# def vae_loss(recon_x, x, mu, logvar):\n",
        "#     # Reconstruction losses are calculated using Mean Squared Error (MSE) and \n",
        "#     # summed over all elements and batch\n",
        "#     mse_loss = F.mse_loss(recon_x, x).view(batch_size,-1).sum(axis=1).mean()\n",
        "\n",
        "#     # See Appendix B from VAE paper:\n",
        "#     # Kingma and Welling. Auto-Encoding Variational Bayes. ICLR, 2014\n",
        "#     # https://arxiv.org/abs/1312.6114\n",
        "#     kld_loss = -0.5 * torch.sum(1 + logvar - (mu**2) - torch.exp(logvar), axis=1)\n",
        "\n",
        "#     total_loss = mse_loss + kld_loss\n",
        "\n",
        "#     return total_loss, mse_loss, kld_loss"
      ],
      "metadata": {
        "id": "aMg-1G_0cI2i"
      },
      "execution_count": 8,
      "outputs": []
    },
    {
      "cell_type": "code",
      "execution_count": 36,
      "metadata": {
        "id": "OXYSuDobGcsP"
      },
      "outputs": [],
      "source": [
        "def vae_loss(recon_x, x, mu, logvar):\n",
        "    # Reconstruction losses are calculated using Mean Squared Error (MSE) and \n",
        "    # summed over all elements and batch\n",
        "    mse_loss = F.mse_loss(recon_x, x).view(batch_size,-1).sum(axis=1).mean()\n",
        "    \n",
        "\n",
        "    # See Appendix B from VAE paper:\n",
        "    # Kingma and Welling. Auto-Encoding Variational Bayes. ICLR, 2014\n",
        "    # https://arxiv.org/abs/1312.6114\n",
        "    kld_loss = -0.5 * torch.sum(1 + logvar - (mu**2) - torch.exp(logvar), axis=1)\n",
        "   # mse_loss = torch.sum(F.mse_loss(recon_x,x), dim = 1).mean()\n",
        "   # mse_loss = F.mse_loss(recon_x, x).view(1,-1).sum(axis=1).mean()\n",
        "\n",
        "\n",
        "    total_loss = mse_loss + kld_loss\n",
        "\n",
        "    return total_loss"
      ]
    },
    {
      "cell_type": "markdown",
      "metadata": {
        "id": "9eXQvkEHHHIN"
      },
      "source": [
        "### Instantiate the model and define the optimizer to use."
      ]
    },
    {
      "cell_type": "code",
      "execution_count": 37,
      "metadata": {
        "id": "kzOxofMoHK9c"
      },
      "outputs": [],
      "source": [
        "model = VAE(latent_space_dim = latent_space_dim)\n",
        "model.to(device)\n",
        "optimizer = torch.optim.Adam(model.parameters(), lr = learning_rate)"
      ]
    },
    {
      "cell_type": "code",
      "execution_count": 38,
      "metadata": {
        "id": "1ekkZCzQNEL0",
        "colab": {
          "base_uri": "https://localhost:8080/"
        },
        "outputId": "da5e5482-fe7b-45d4-adf2-03b9fa9d4142"
      },
      "outputs": [
        {
          "output_type": "execute_result",
          "data": {
            "text/plain": [
              "VAE(\n",
              "  (conv1): Conv2d(1, 32, kernel_size=(4, 4), stride=(2, 2), padding=(1, 1))\n",
              "  (relu): ReLU()\n",
              "  (conv2): Conv2d(32, 64, kernel_size=(4, 4), stride=(2, 2), padding=(1, 1))\n",
              "  (mu): Linear(in_features=3136, out_features=10, bias=True)\n",
              "  (logvar): Linear(in_features=3136, out_features=10, bias=True)\n",
              "  (z): Linear(in_features=10, out_features=3136, bias=True)\n",
              "  (conv3): ConvTranspose2d(64, 32, kernel_size=(4, 4), stride=(2, 2), padding=(1, 1))\n",
              "  (conv4): ConvTranspose2d(32, 1, kernel_size=(4, 4), stride=(2, 2), padding=(1, 1))\n",
              "  (sig): Sigmoid()\n",
              "  (flatt): Flatten(start_dim=1, end_dim=-1)\n",
              ")"
            ]
          },
          "metadata": {},
          "execution_count": 38
        }
      ],
      "source": [
        "model"
      ]
    },
    {
      "cell_type": "code",
      "source": [
        "x = torch.randn(128, 1, 28, 28).to(device)"
      ],
      "metadata": {
        "id": "J46TPgyj-HVj"
      },
      "execution_count": 25,
      "outputs": []
    },
    {
      "cell_type": "code",
      "source": [
        "a,b,c = model(x) #Hence Model is correct"
      ],
      "metadata": {
        "colab": {
          "base_uri": "https://localhost:8080/"
        },
        "id": "-IfOv8Bb-OBo",
        "outputId": "345d04ef-fa2e-4f49-98ce-42b48ad74c65"
      },
      "execution_count": 26,
      "outputs": [
        {
          "output_type": "stream",
          "name": "stdout",
          "text": [
            "i1\n",
            "i2\n"
          ]
        }
      ]
    },
    {
      "cell_type": "code",
      "source": [
        "F.mse_loss(a,x)"
      ],
      "metadata": {
        "colab": {
          "base_uri": "https://localhost:8080/"
        },
        "id": "ynDtj8uV_byB",
        "outputId": "c7de1fe5-934a-4c98-9f62-4a6537ee9b38"
      },
      "execution_count": 27,
      "outputs": [
        {
          "output_type": "execute_result",
          "data": {
            "text/plain": [
              "tensor(1.2102, device='cuda:0', grad_fn=<MseLossBackward0>)"
            ]
          },
          "metadata": {},
          "execution_count": 27
        }
      ]
    },
    {
      "cell_type": "code",
      "source": [
        "vae_loss(a,x,b,c)"
      ],
      "metadata": {
        "colab": {
          "base_uri": "https://localhost:8080/"
        },
        "id": "UgBh5vup-ma6",
        "outputId": "40bc4b35-aa7b-4ae0-befa-6649fe208a61"
      },
      "execution_count": 30,
      "outputs": [
        {
          "output_type": "execute_result",
          "data": {
            "text/plain": [
              "tensor([1.3073, 1.2620, 1.2522, 1.2929, 1.2875, 1.2783, 1.2508, 1.2865, 1.2826,\n",
              "        1.2755, 1.3200, 1.2811, 1.2703, 1.2618, 1.2780, 1.2580, 1.2454, 1.2409,\n",
              "        1.2771, 1.2687, 1.2731, 1.2512, 1.2605, 1.2629, 1.2686, 1.2795, 1.2773,\n",
              "        1.2584, 1.2445, 1.2586, 1.2564, 1.2513, 1.2819, 1.2829, 1.2623, 1.2658,\n",
              "        1.2678, 1.2854, 1.2943, 1.2683, 1.2947, 1.3077, 1.2727, 1.2619, 1.2677,\n",
              "        1.2753, 1.2575, 1.2678, 1.2722, 1.2418, 1.2727, 1.2903, 1.2797, 1.2717,\n",
              "        1.2623, 1.2691, 1.2509, 1.2813, 1.2657, 1.2494, 1.2610, 1.2690, 1.2425,\n",
              "        1.3120, 1.2727, 1.2554, 1.2761, 1.2454, 1.3057, 1.2529, 1.2498, 1.2643,\n",
              "        1.2715, 1.2532, 1.2496, 1.2475, 1.2962, 1.2666, 1.2926, 1.2723, 1.2871,\n",
              "        1.2836, 1.2510, 1.2600, 1.2827, 1.2557, 1.3023, 1.2809, 1.2729, 1.2883,\n",
              "        1.2374, 1.2730, 1.2823, 1.2513, 1.2618, 1.2590, 1.2739, 1.2606, 1.2481,\n",
              "        1.2600, 1.2961, 1.2903, 1.2813, 1.2676, 1.2660, 1.2601, 1.2627, 1.2768,\n",
              "        1.2586, 1.2576, 1.2406, 1.2550, 1.2464, 1.2548, 1.2630, 1.2535, 1.2760,\n",
              "        1.2969, 1.2760, 1.2658, 1.2815, 1.2625, 1.2678, 1.3115, 1.2487, 1.2479,\n",
              "        1.2491, 1.2865], device='cuda:0', grad_fn=<AddBackward0>)"
            ]
          },
          "metadata": {},
          "execution_count": 30
        }
      ]
    },
    {
      "cell_type": "markdown",
      "metadata": {
        "id": "skZM-YYS_jiJ"
      },
      "source": [
        "## Train the network"
      ]
    },
    {
      "cell_type": "markdown",
      "metadata": {
        "id": "X7-EkMvFqobc"
      },
      "source": [
        "**TASK 2: Train the model and plot train+test set loss over training in the same plot**\n"
      ]
    },
    {
      "cell_type": "code",
      "source": [
        "import os\n",
        "import fastprogress\n",
        "import time\n",
        "\n",
        "import numpy as np\n",
        "import matplotlib.pyplot as plt\n",
        "import seaborn as sns\n",
        "def accuracy(correct, total): \n",
        "    \"\"\"Compute accuracy as percentage.\n",
        "\n",
        "    Args:\n",
        "        correct (int): Number of samples correctly predicted.\n",
        "        total (int): Total number of samples\n",
        "\n",
        "    Returns:\n",
        "        float: Accuracy\n",
        "    \"\"\"\n",
        "    return float(correct)/total\n",
        "\n",
        "\n",
        "def train(dataloader, optimizer, model, loss_fn, device, master_bar):\n",
        "    \"\"\"Run one training epoch.\n",
        "\n",
        "    Args:\n",
        "        dataloader (DataLoader): Torch DataLoader object to load data\n",
        "        optimizer: Torch optimizer object\n",
        "        model (nn.Module): Torch model to train\n",
        "        loss_fn: Torch loss function\n",
        "        device (torch.device): Torch device to use for training\n",
        "        master_bar (fastprogress.master_bar): Will be iterated over for each\n",
        "            epoch to draw batches and display training progress\n",
        "\n",
        "    Returns:\n",
        "        float, float: Mean loss of this epoch, fraction of correct predictions\n",
        "            on training set (accuracy)\n",
        "    \"\"\"\n",
        "    epoch_loss = []\n",
        "    epoch_correct, epoch_total = 0, 0\n",
        "\n",
        "    for x, y in fastprogress.progress_bar(dataloader, parent=master_bar):\n",
        "        optimizer.zero_grad()\n",
        "        model.train()\n",
        "\n",
        "        # Forward pass\n",
        "        y_pred,mu,logvar = model(x.to(device))\n",
        "\n",
        "        # For calculating the accuracy, save the number of correctly classified \n",
        "        # images and the total number\n",
        "        #epoch_correct += sum(y.to(device) == y_pred.argmax(dim=1))\n",
        "        #epoch_total += len(y)\n",
        "\n",
        "        # Compute loss\n",
        "        loss = loss_fn(y_pred, y.to(device),mu,logvar)\n",
        "\n",
        "        # Backward pass\n",
        "        loss.backward()\n",
        "        optimizer.step()\n",
        "\n",
        "        # For plotting the train loss, save it for each sample\n",
        "        epoch_loss.append(loss.item())\n",
        "\n",
        "    # Return the mean loss and the accuracy of this epoch\n",
        "    return np.mean(epoch_loss), accuracy(epoch_correct, epoch_total)\n",
        "\n",
        "\n",
        "def validate(dataloader, model, loss_fn, device, master_bar):\n",
        "    \"\"\"Compute loss, accuracy and confusion matrix on validation set.\n",
        "\n",
        "    Args:\n",
        "        dataloader (DataLoader): Torch DataLoader object to load data\n",
        "        model (nn.Module): Torch model to train\n",
        "        loss_fn: Torch loss function\n",
        "        device (torch.device): Torch device to use for training\n",
        "        master_bar (fastprogress.master_bar): Will be iterated over to draw \n",
        "            batches and show validation progress\n",
        "\n",
        "    Returns:\n",
        "        float, float, torch.Tensor shape (10,10): Mean loss on validation set, \n",
        "            fraction of correct predictions on validation set (accuracy)\n",
        "    \"\"\"\n",
        "    epoch_loss = []\n",
        "    epoch_correct, epoch_total = 0, 0\n",
        "    confusion_matrix = torch.zeros(10, 10)    \n",
        "\n",
        "    model.eval()\n",
        "    with torch.no_grad():\n",
        "        for x, y in fastprogress.progress_bar(dataloader, parent=master_bar):\n",
        "            # make a prediction on validation set\n",
        "            y_pred,mu,logvar = model(x.to(device))\n",
        "\n",
        "            # For calculating the accuracy, save the number of correctly \n",
        "            # classified images and the total number\n",
        "            epoch_correct += sum(y.to(device) == y_pred.argmax(dim=1))\n",
        "            epoch_total += len(y)\n",
        "\n",
        "            # Fill confusion matrix\n",
        "            for (y_true, y_p) in zip(y, y_pred.argmax(dim=1)):\n",
        "                confusion_matrix[int(y_true), int(y_p)] +=1\n",
        "\n",
        "            # Compute loss\n",
        "            loss = loss_fn(y_pred, y.to(device),mu,logvar)\n",
        "\n",
        "            # For plotting the train loss, save it for each sample\n",
        "            epoch_loss.append(loss.item())\n",
        "\n",
        "    # Return the mean loss, the accuracy and the confusion matrix\n",
        "    return np.mean(epoch_loss), accuracy(epoch_correct, epoch_total), confusion_matrix\n",
        "\n",
        "\n",
        "def run_training(model, optimizer, loss_function, device, num_epochs, \n",
        "                train_dataloader, val_dataloader, early_stopper=None, verbose=False):\n",
        "    \"\"\"Run model training.\n",
        "\n",
        "    Args:\n",
        "        model (nn.Module): Torch model to train\n",
        "        optimizer: Torch optimizer object\n",
        "        loss_fn: Torch loss function for training\n",
        "        device (torch.device): Torch device to use for training\n",
        "        num_epochs (int): Max. number of epochs to train\n",
        "        train_dataloader (DataLoader): Torch DataLoader object to load the\n",
        "            training data\n",
        "        val_dataloader (DataLoader): Torch DataLoader object to load the\n",
        "            validation data\n",
        "        early_stopper (EarlyStopper, optional): If passed, model will be trained\n",
        "            with early stopping. Defaults to None.\n",
        "        verbose (bool, optional): Print information about model training. \n",
        "            Defaults to False.\n",
        "\n",
        "    Returns:\n",
        "        list, list, list, list, torch.Tensor shape (10,10): Return list of train\n",
        "            losses, validation losses, train accuracies, validation accuracies\n",
        "            per epoch and the confusion matrix evaluated in the last epoch.\n",
        "    \"\"\"\n",
        "    start_time = time.time()\n",
        "    master_bar = fastprogress.master_bar(range(num_epochs))\n",
        "    train_losses, val_losses, train_accs, val_accs = [],[],[],[]\n",
        "    stopping_pts = ()\n",
        "    \n",
        "    for epoch in master_bar:\n",
        "        # Train the model\n",
        "        epoch_train_loss, epoch_train_acc = train(train_dataloader, optimizer, model,loss_function, device, master_bar)\n",
        "        # Validate the model\n",
        "        epoch_val_loss, epoch_val_acc, confusion_matrix = validate(val_dataloader,model, loss_function,device, master_bar)\n",
        "\n",
        "        # Save loss and acc for plotting\n",
        "        train_losses.append(epoch_train_loss)\n",
        "        val_losses.append(epoch_val_loss)\n",
        "        train_accs.append(epoch_train_acc)\n",
        "        val_accs.append(epoch_val_acc)\n",
        "        \n",
        "        if verbose:\n",
        "            master_bar.write(f'Train loss: {epoch_train_loss:.2f}, val loss: {epoch_val_loss:.2f}, train acc: {epoch_train_acc:.3f}, val acc {epoch_val_acc:.3f}')\n",
        "            \n",
        "        if early_stopper:          \n",
        "          early_stopper.stopping_criterion(epoch_val_acc)\n",
        "          \n",
        "          if early_stopper.early_stop:\n",
        "            print('Epoch :', str(epoch))   \n",
        "            stopping_pts = (val_accs.index(max(val_accs))+1,max(val_accs))    \n",
        "            #model.load_state_dict(torch.load('checkpoint.pt'))                 \n",
        "            break\n",
        "            \n",
        "\n",
        "          #torch.save(model,\"/checkpoint.pt\")\n",
        "            ####################\n",
        "            ## YOUR CODE HERE ##\n",
        "            ####################\n",
        "            #if train_accs[-1] - train_accs[-2] < 0.05:\n",
        "             # raise NotImplementedError\n",
        "\n",
        "\n",
        "            # END OF YOUR CODE #\n",
        "            \n",
        "    time_elapsed = np.round(time.time() - start_time, 0).astype(int)\n",
        "    print(f'Finished training after {time_elapsed} seconds.')\n",
        "    return train_losses, val_losses, train_accs, val_accs, stopping_pts,confusion_matrix\n",
        "\n",
        "\n",
        "def plot(title, label, train_results, val_results, yscale='linear', save_path=None, \n",
        "         extra_pt=None, extra_pt_label=None):\n",
        "    \"\"\"Plot learning curves.\n",
        "\n",
        "    Args:\n",
        "        title (str): Title of plot\n",
        "        label (str): x-axis label\n",
        "        train_results (list): Results vector of training of length of number\n",
        "            of epochs trained. Could be loss or accuracy.\n",
        "        val_results (list): Results vector of validation of length of number\n",
        "            of epochs. Could be loss or accuracy.\n",
        "        yscale (str, optional): Matplotlib.pyplot.yscale parameter. \n",
        "            Defaults to 'linear'.\n",
        "        save_path (str, optional): If passed, figure will be saved at this path.\n",
        "            Defaults to None.\n",
        "        extra_pt (tuple, optional): Tuple of length 2, defining x and y coordinate\n",
        "            of where an additional black dot will be plotted. Defaults to None.\n",
        "        extra_pt_label (str, optional): Legend label of extra point. Defaults to None.\n",
        "    \"\"\"\n",
        "    \n",
        "    epoch_array = np.arange(len(train_results)) + 1\n",
        "    train_label, val_label = \"Training \"+label.lower(), \"Validation \"+label.lower()\n",
        "    \n",
        "    sns.set(style='ticks')\n",
        "\n",
        "    plt.plot(epoch_array, train_results, epoch_array, val_results,linestyle='dashed', marker='o')\n",
        "    \n",
        "    \n",
        "    if extra_pt:\n",
        "        plt.plot(extra_pt[0], extra_pt[1], marker = \"o\", markersize = 10, markerfacecolor = \"black\")\n",
        "\n",
        "    legend = ['Train results', 'Validation results', extra_pt_label]    \n",
        "    plt.legend(legend)\n",
        "    plt.xlabel('Epoch')\n",
        "    plt.ylabel(label)\n",
        "    plt.yscale(yscale)\n",
        "    plt.title(title)\n",
        "   \n",
        "    \n",
        "    sns.despine(trim=True, offset=5)\n",
        "    plt.title(title, fontsize=15)\n",
        "    if save_path:\n",
        "        plt.savefig(str(save_path), bbox_inches='tight')\n",
        "    plt.show()"
      ],
      "metadata": {
        "id": "f08kc9dSbolJ"
      },
      "execution_count": 39,
      "outputs": []
    },
    {
      "cell_type": "code",
      "source": [
        "train_losses, val_losses, train_accs, val_accs, sp, cm = run_training(model, optimizer, vae_loss, device, num_epochs=10, \n",
        "                train_dataloader=train_loader, val_dataloader=test_loader)"
      ],
      "metadata": {
        "colab": {
          "base_uri": "https://localhost:8080/",
          "height": 475
        },
        "id": "MmiN1iXSbyey",
        "outputId": "8972d13c-a6c9-44f6-f1c8-45440b8f9310"
      },
      "execution_count": 40,
      "outputs": [
        {
          "output_type": "display_data",
          "data": {
            "text/plain": [
              "<IPython.core.display.HTML object>"
            ],
            "text/html": [
              "\n",
              "<style>\n",
              "    /* Turns off some styling */\n",
              "    progress {\n",
              "        /* gets rid of default border in Firefox and Opera. */\n",
              "        border: none;\n",
              "        /* Needs to be in here for Safari polyfill so background images work as expected. */\n",
              "        background-size: auto;\n",
              "    }\n",
              "    .progress-bar-interrupted, .progress-bar-interrupted::-webkit-progress-bar {\n",
              "        background: #F44336;\n",
              "    }\n",
              "</style>\n"
            ]
          },
          "metadata": {}
        },
        {
          "output_type": "display_data",
          "data": {
            "text/plain": [
              "<IPython.core.display.HTML object>"
            ],
            "text/html": [
              "\n",
              "    <div>\n",
              "      <progress value='0' class='' max='10' style='width:300px; height:20px; vertical-align: middle;'></progress>\n",
              "      0.00% [0/10 00:00<00:00]\n",
              "    </div>\n",
              "    \n",
              "\n",
              "\n",
              "    <div>\n",
              "      <progress value='0' class='' max='469' style='width:300px; height:20px; vertical-align: middle;'></progress>\n",
              "      0.00% [0/469 00:00<00:00]\n",
              "    </div>\n",
              "    "
            ]
          },
          "metadata": {}
        },
        {
          "output_type": "stream",
          "name": "stdout",
          "text": [
            "i1\n",
            "i2\n"
          ]
        },
        {
          "output_type": "stream",
          "name": "stderr",
          "text": [
            "/usr/local/lib/python3.7/dist-packages/ipykernel_launcher.py:4: UserWarning: Using a target size (torch.Size([128])) that is different to the input size (torch.Size([128, 1, 28, 28])). This will likely lead to incorrect results due to broadcasting. Please ensure they have the same size.\n",
            "  after removing the cwd from sys.path.\n"
          ]
        },
        {
          "output_type": "error",
          "ename": "RuntimeError",
          "evalue": "ignored",
          "traceback": [
            "\u001b[0;31m---------------------------------------------------------------------------\u001b[0m",
            "\u001b[0;31mRuntimeError\u001b[0m                              Traceback (most recent call last)",
            "\u001b[0;32m<ipython-input-40-da3a9a8fd1f3>\u001b[0m in \u001b[0;36m<module>\u001b[0;34m()\u001b[0m\n\u001b[1;32m      1\u001b[0m train_losses, val_losses, train_accs, val_accs, sp, cm = run_training(model, optimizer, vae_loss, device, num_epochs=10, \n\u001b[0;32m----> 2\u001b[0;31m                 train_dataloader=train_loader, val_dataloader=test_loader)\n\u001b[0m",
            "\u001b[0;32m<ipython-input-39-581f6f331e94>\u001b[0m in \u001b[0;36mrun_training\u001b[0;34m(model, optimizer, loss_function, device, num_epochs, train_dataloader, val_dataloader, early_stopper, verbose)\u001b[0m\n\u001b[1;32m    139\u001b[0m     \u001b[0;32mfor\u001b[0m \u001b[0mepoch\u001b[0m \u001b[0;32min\u001b[0m \u001b[0mmaster_bar\u001b[0m\u001b[0;34m:\u001b[0m\u001b[0;34m\u001b[0m\u001b[0;34m\u001b[0m\u001b[0m\n\u001b[1;32m    140\u001b[0m         \u001b[0;31m# Train the model\u001b[0m\u001b[0;34m\u001b[0m\u001b[0;34m\u001b[0m\u001b[0;34m\u001b[0m\u001b[0m\n\u001b[0;32m--> 141\u001b[0;31m         \u001b[0mepoch_train_loss\u001b[0m\u001b[0;34m,\u001b[0m \u001b[0mepoch_train_acc\u001b[0m \u001b[0;34m=\u001b[0m \u001b[0mtrain\u001b[0m\u001b[0;34m(\u001b[0m\u001b[0mtrain_dataloader\u001b[0m\u001b[0;34m,\u001b[0m \u001b[0moptimizer\u001b[0m\u001b[0;34m,\u001b[0m \u001b[0mmodel\u001b[0m\u001b[0;34m,\u001b[0m\u001b[0mloss_function\u001b[0m\u001b[0;34m,\u001b[0m \u001b[0mdevice\u001b[0m\u001b[0;34m,\u001b[0m \u001b[0mmaster_bar\u001b[0m\u001b[0;34m)\u001b[0m\u001b[0;34m\u001b[0m\u001b[0;34m\u001b[0m\u001b[0m\n\u001b[0m\u001b[1;32m    142\u001b[0m         \u001b[0;31m# Validate the model\u001b[0m\u001b[0;34m\u001b[0m\u001b[0;34m\u001b[0m\u001b[0;34m\u001b[0m\u001b[0m\n\u001b[1;32m    143\u001b[0m         \u001b[0mepoch_val_loss\u001b[0m\u001b[0;34m,\u001b[0m \u001b[0mepoch_val_acc\u001b[0m\u001b[0;34m,\u001b[0m \u001b[0mconfusion_matrix\u001b[0m \u001b[0;34m=\u001b[0m \u001b[0mvalidate\u001b[0m\u001b[0;34m(\u001b[0m\u001b[0mval_dataloader\u001b[0m\u001b[0;34m,\u001b[0m\u001b[0mmodel\u001b[0m\u001b[0;34m,\u001b[0m \u001b[0mloss_function\u001b[0m\u001b[0;34m,\u001b[0m\u001b[0mdevice\u001b[0m\u001b[0;34m,\u001b[0m \u001b[0mmaster_bar\u001b[0m\u001b[0;34m)\u001b[0m\u001b[0;34m\u001b[0m\u001b[0;34m\u001b[0m\u001b[0m\n",
            "\u001b[0;32m<ipython-input-39-581f6f331e94>\u001b[0m in \u001b[0;36mtrain\u001b[0;34m(dataloader, optimizer, model, loss_fn, device, master_bar)\u001b[0m\n\u001b[1;32m     51\u001b[0m \u001b[0;34m\u001b[0m\u001b[0m\n\u001b[1;32m     52\u001b[0m         \u001b[0;31m# Compute loss\u001b[0m\u001b[0;34m\u001b[0m\u001b[0;34m\u001b[0m\u001b[0;34m\u001b[0m\u001b[0m\n\u001b[0;32m---> 53\u001b[0;31m         \u001b[0mloss\u001b[0m \u001b[0;34m=\u001b[0m \u001b[0mloss_fn\u001b[0m\u001b[0;34m(\u001b[0m\u001b[0my_pred\u001b[0m\u001b[0;34m,\u001b[0m \u001b[0my\u001b[0m\u001b[0;34m.\u001b[0m\u001b[0mto\u001b[0m\u001b[0;34m(\u001b[0m\u001b[0mdevice\u001b[0m\u001b[0;34m)\u001b[0m\u001b[0;34m,\u001b[0m\u001b[0mmu\u001b[0m\u001b[0;34m,\u001b[0m\u001b[0mlogvar\u001b[0m\u001b[0;34m)\u001b[0m\u001b[0;34m\u001b[0m\u001b[0;34m\u001b[0m\u001b[0m\n\u001b[0m\u001b[1;32m     54\u001b[0m \u001b[0;34m\u001b[0m\u001b[0m\n\u001b[1;32m     55\u001b[0m         \u001b[0;31m# Backward pass\u001b[0m\u001b[0;34m\u001b[0m\u001b[0;34m\u001b[0m\u001b[0;34m\u001b[0m\u001b[0m\n",
            "\u001b[0;32m<ipython-input-36-d20c653d23b9>\u001b[0m in \u001b[0;36mvae_loss\u001b[0;34m(recon_x, x, mu, logvar)\u001b[0m\n\u001b[1;32m      2\u001b[0m     \u001b[0;31m# Reconstruction losses are calculated using Mean Squared Error (MSE) and\u001b[0m\u001b[0;34m\u001b[0m\u001b[0;34m\u001b[0m\u001b[0;34m\u001b[0m\u001b[0m\n\u001b[1;32m      3\u001b[0m     \u001b[0;31m# summed over all elements and batch\u001b[0m\u001b[0;34m\u001b[0m\u001b[0;34m\u001b[0m\u001b[0;34m\u001b[0m\u001b[0m\n\u001b[0;32m----> 4\u001b[0;31m     \u001b[0mmse_loss\u001b[0m \u001b[0;34m=\u001b[0m \u001b[0mF\u001b[0m\u001b[0;34m.\u001b[0m\u001b[0mmse_loss\u001b[0m\u001b[0;34m(\u001b[0m\u001b[0mrecon_x\u001b[0m\u001b[0;34m,\u001b[0m \u001b[0mx\u001b[0m\u001b[0;34m)\u001b[0m\u001b[0;34m.\u001b[0m\u001b[0mview\u001b[0m\u001b[0;34m(\u001b[0m\u001b[0mbatch_size\u001b[0m\u001b[0;34m,\u001b[0m\u001b[0;34m-\u001b[0m\u001b[0;36m1\u001b[0m\u001b[0;34m)\u001b[0m\u001b[0;34m.\u001b[0m\u001b[0msum\u001b[0m\u001b[0;34m(\u001b[0m\u001b[0maxis\u001b[0m\u001b[0;34m=\u001b[0m\u001b[0;36m1\u001b[0m\u001b[0;34m)\u001b[0m\u001b[0;34m.\u001b[0m\u001b[0mmean\u001b[0m\u001b[0;34m(\u001b[0m\u001b[0;34m)\u001b[0m\u001b[0;34m\u001b[0m\u001b[0;34m\u001b[0m\u001b[0m\n\u001b[0m\u001b[1;32m      5\u001b[0m \u001b[0;34m\u001b[0m\u001b[0m\n\u001b[1;32m      6\u001b[0m \u001b[0;34m\u001b[0m\u001b[0m\n",
            "\u001b[0;32m/usr/local/lib/python3.7/dist-packages/torch/nn/functional.py\u001b[0m in \u001b[0;36mmse_loss\u001b[0;34m(input, target, size_average, reduce, reduction)\u001b[0m\n\u001b[1;32m   3277\u001b[0m         \u001b[0mreduction\u001b[0m \u001b[0;34m=\u001b[0m \u001b[0m_Reduction\u001b[0m\u001b[0;34m.\u001b[0m\u001b[0mlegacy_get_string\u001b[0m\u001b[0;34m(\u001b[0m\u001b[0msize_average\u001b[0m\u001b[0;34m,\u001b[0m \u001b[0mreduce\u001b[0m\u001b[0;34m)\u001b[0m\u001b[0;34m\u001b[0m\u001b[0;34m\u001b[0m\u001b[0m\n\u001b[1;32m   3278\u001b[0m \u001b[0;34m\u001b[0m\u001b[0m\n\u001b[0;32m-> 3279\u001b[0;31m     \u001b[0mexpanded_input\u001b[0m\u001b[0;34m,\u001b[0m \u001b[0mexpanded_target\u001b[0m \u001b[0;34m=\u001b[0m \u001b[0mtorch\u001b[0m\u001b[0;34m.\u001b[0m\u001b[0mbroadcast_tensors\u001b[0m\u001b[0;34m(\u001b[0m\u001b[0minput\u001b[0m\u001b[0;34m,\u001b[0m \u001b[0mtarget\u001b[0m\u001b[0;34m)\u001b[0m\u001b[0;34m\u001b[0m\u001b[0;34m\u001b[0m\u001b[0m\n\u001b[0m\u001b[1;32m   3280\u001b[0m     \u001b[0;32mreturn\u001b[0m \u001b[0mtorch\u001b[0m\u001b[0;34m.\u001b[0m\u001b[0m_C\u001b[0m\u001b[0;34m.\u001b[0m\u001b[0m_nn\u001b[0m\u001b[0;34m.\u001b[0m\u001b[0mmse_loss\u001b[0m\u001b[0;34m(\u001b[0m\u001b[0mexpanded_input\u001b[0m\u001b[0;34m,\u001b[0m \u001b[0mexpanded_target\u001b[0m\u001b[0;34m,\u001b[0m \u001b[0m_Reduction\u001b[0m\u001b[0;34m.\u001b[0m\u001b[0mget_enum\u001b[0m\u001b[0;34m(\u001b[0m\u001b[0mreduction\u001b[0m\u001b[0;34m)\u001b[0m\u001b[0;34m)\u001b[0m\u001b[0;34m\u001b[0m\u001b[0;34m\u001b[0m\u001b[0m\n\u001b[1;32m   3281\u001b[0m \u001b[0;34m\u001b[0m\u001b[0m\n",
            "\u001b[0;32m/usr/local/lib/python3.7/dist-packages/torch/functional.py\u001b[0m in \u001b[0;36mbroadcast_tensors\u001b[0;34m(*tensors)\u001b[0m\n\u001b[1;32m     71\u001b[0m     \u001b[0;32mif\u001b[0m \u001b[0mhas_torch_function\u001b[0m\u001b[0;34m(\u001b[0m\u001b[0mtensors\u001b[0m\u001b[0;34m)\u001b[0m\u001b[0;34m:\u001b[0m\u001b[0;34m\u001b[0m\u001b[0;34m\u001b[0m\u001b[0m\n\u001b[1;32m     72\u001b[0m         \u001b[0;32mreturn\u001b[0m \u001b[0mhandle_torch_function\u001b[0m\u001b[0;34m(\u001b[0m\u001b[0mbroadcast_tensors\u001b[0m\u001b[0;34m,\u001b[0m \u001b[0mtensors\u001b[0m\u001b[0;34m,\u001b[0m \u001b[0;34m*\u001b[0m\u001b[0mtensors\u001b[0m\u001b[0;34m)\u001b[0m\u001b[0;34m\u001b[0m\u001b[0;34m\u001b[0m\u001b[0m\n\u001b[0;32m---> 73\u001b[0;31m     \u001b[0;32mreturn\u001b[0m \u001b[0m_VF\u001b[0m\u001b[0;34m.\u001b[0m\u001b[0mbroadcast_tensors\u001b[0m\u001b[0;34m(\u001b[0m\u001b[0mtensors\u001b[0m\u001b[0;34m)\u001b[0m  \u001b[0;31m# type: ignore[attr-defined]\u001b[0m\u001b[0;34m\u001b[0m\u001b[0;34m\u001b[0m\u001b[0m\n\u001b[0m\u001b[1;32m     74\u001b[0m \u001b[0;34m\u001b[0m\u001b[0m\n\u001b[1;32m     75\u001b[0m \u001b[0;34m\u001b[0m\u001b[0m\n",
            "\u001b[0;31mRuntimeError\u001b[0m: The size of tensor a (28) must match the size of tensor b (128) at non-singleton dimension 3"
          ]
        }
      ]
    },
    {
      "cell_type": "markdown",
      "metadata": {
        "id": "rt4GrpWTsW3c"
      },
      "source": [
        "### Visualization of random samples from the latent space"
      ]
    },
    {
      "cell_type": "markdown",
      "metadata": {
        "id": "uK_R4juaDQLY"
      },
      "source": [
        "Here we create a number of random samples from the latent space and use the decoder to generate images from them. Rerun the code cell to generate new samples every time!"
      ]
    },
    {
      "cell_type": "code",
      "execution_count": 41,
      "metadata": {
        "id": "48PLYeOSsvQo",
        "colab": {
          "base_uri": "https://localhost:8080/",
          "height": 356
        },
        "outputId": "26d4cd5a-f6a2-43a4-b962-e87731a00056"
      },
      "outputs": [
        {
          "output_type": "error",
          "ename": "RuntimeError",
          "evalue": "ignored",
          "traceback": [
            "\u001b[0;31m---------------------------------------------------------------------------\u001b[0m",
            "\u001b[0;31mRuntimeError\u001b[0m                              Traceback (most recent call last)",
            "\u001b[0;32m<ipython-input-41-aa9f252fc42e>\u001b[0m in \u001b[0;36m<module>\u001b[0;34m()\u001b[0m\n\u001b[1;32m      1\u001b[0m \u001b[0;32mwith\u001b[0m \u001b[0mtorch\u001b[0m\u001b[0;34m.\u001b[0m\u001b[0mno_grad\u001b[0m\u001b[0;34m(\u001b[0m\u001b[0;34m)\u001b[0m\u001b[0;34m:\u001b[0m\u001b[0;34m\u001b[0m\u001b[0;34m\u001b[0m\u001b[0m\n\u001b[1;32m      2\u001b[0m     \u001b[0msamples\u001b[0m \u001b[0;34m=\u001b[0m \u001b[0mtorch\u001b[0m\u001b[0;34m.\u001b[0m\u001b[0mrandn\u001b[0m\u001b[0;34m(\u001b[0m\u001b[0mimages_columns\u001b[0m \u001b[0;34m*\u001b[0m \u001b[0mimages_rows\u001b[0m\u001b[0;34m,\u001b[0m \u001b[0mlatent_space_dim\u001b[0m\u001b[0;34m)\u001b[0m\u001b[0;34m.\u001b[0m\u001b[0mto\u001b[0m\u001b[0;34m(\u001b[0m\u001b[0mdevice\u001b[0m\u001b[0;34m)\u001b[0m\u001b[0;34m\u001b[0m\u001b[0;34m\u001b[0m\u001b[0m\n\u001b[0;32m----> 3\u001b[0;31m     \u001b[0msamples\u001b[0m \u001b[0;34m=\u001b[0m \u001b[0mmodel\u001b[0m\u001b[0;34m.\u001b[0m\u001b[0mdecode\u001b[0m\u001b[0;34m(\u001b[0m\u001b[0msamples\u001b[0m\u001b[0;34m)\u001b[0m\u001b[0;34m.\u001b[0m\u001b[0mcpu\u001b[0m\u001b[0;34m(\u001b[0m\u001b[0;34m)\u001b[0m\u001b[0;34m\u001b[0m\u001b[0;34m\u001b[0m\u001b[0m\n\u001b[0m\u001b[1;32m      4\u001b[0m \u001b[0;34m\u001b[0m\u001b[0m\n\u001b[1;32m      5\u001b[0m     \u001b[0mshow_grid\u001b[0m\u001b[0;34m(\u001b[0m\u001b[0msamples\u001b[0m\u001b[0;34m[\u001b[0m\u001b[0;36m0\u001b[0m\u001b[0;34m:\u001b[0m\u001b[0;34m(\u001b[0m\u001b[0mimages_columns\u001b[0m \u001b[0;34m*\u001b[0m \u001b[0mimages_rows\u001b[0m\u001b[0;34m)\u001b[0m\u001b[0;34m]\u001b[0m\u001b[0;34m,\u001b[0m \u001b[0mimages_columns\u001b[0m\u001b[0;34m,\u001b[0m \u001b[0mimages_rows\u001b[0m\u001b[0;34m)\u001b[0m\u001b[0;34m\u001b[0m\u001b[0;34m\u001b[0m\u001b[0m\n",
            "\u001b[0;32m<ipython-input-18-e8aebf77295b>\u001b[0m in \u001b[0;36mdecode\u001b[0;34m(self, z)\u001b[0m\n\u001b[1;32m     37\u001b[0m \u001b[0;34m\u001b[0m\u001b[0m\n\u001b[1;32m     38\u001b[0m         \u001b[0;31m#h3 = z.reshape((128,64,7,7))\u001b[0m\u001b[0;34m\u001b[0m\u001b[0;34m\u001b[0m\u001b[0;34m\u001b[0m\u001b[0m\n\u001b[0;32m---> 39\u001b[0;31m         \u001b[0mh3\u001b[0m \u001b[0;34m=\u001b[0m \u001b[0mself\u001b[0m\u001b[0;34m.\u001b[0m\u001b[0mconv3\u001b[0m\u001b[0;34m(\u001b[0m\u001b[0mz\u001b[0m\u001b[0;34m.\u001b[0m\u001b[0mreshape\u001b[0m\u001b[0;34m(\u001b[0m\u001b[0mz\u001b[0m\u001b[0;34m.\u001b[0m\u001b[0mshape\u001b[0m\u001b[0;34m[\u001b[0m\u001b[0;36m0\u001b[0m\u001b[0;34m]\u001b[0m\u001b[0;34m,\u001b[0m\u001b[0;36m64\u001b[0m\u001b[0;34m,\u001b[0m\u001b[0;36m7\u001b[0m\u001b[0;34m,\u001b[0m\u001b[0;36m7\u001b[0m\u001b[0;34m)\u001b[0m\u001b[0;34m)\u001b[0m\u001b[0;34m\u001b[0m\u001b[0;34m\u001b[0m\u001b[0m\n\u001b[0m\u001b[1;32m     40\u001b[0m         \u001b[0mh3\u001b[0m \u001b[0;34m=\u001b[0m \u001b[0mself\u001b[0m\u001b[0;34m.\u001b[0m\u001b[0mrelu\u001b[0m\u001b[0;34m(\u001b[0m\u001b[0mh3\u001b[0m\u001b[0;34m)\u001b[0m\u001b[0;34m\u001b[0m\u001b[0;34m\u001b[0m\u001b[0m\n\u001b[1;32m     41\u001b[0m         \u001b[0mh4\u001b[0m \u001b[0;34m=\u001b[0m \u001b[0mself\u001b[0m\u001b[0;34m.\u001b[0m\u001b[0mconv4\u001b[0m\u001b[0;34m(\u001b[0m\u001b[0mh3\u001b[0m\u001b[0;34m)\u001b[0m\u001b[0;34m\u001b[0m\u001b[0;34m\u001b[0m\u001b[0m\n",
            "\u001b[0;31mRuntimeError\u001b[0m: shape '[60, 64, 7, 7]' is invalid for input of size 600"
          ]
        }
      ],
      "source": [
        "with torch.no_grad():\n",
        "    samples = torch.randn(images_columns * images_rows, latent_space_dim).to(device)\n",
        "    samples = model.decode(samples).cpu()\n",
        "\n",
        "    show_grid(samples[0:(images_columns * images_rows)], images_columns, images_rows)"
      ]
    },
    {
      "cell_type": "markdown",
      "metadata": {
        "id": "uWiPxAitl0cm"
      },
      "source": [
        "### Visualization of image reconstructions"
      ]
    },
    {
      "cell_type": "markdown",
      "metadata": {
        "id": "pCcNbs4L9v_N"
      },
      "source": [
        "Visualize the image reconstruction process and compare the reconstructions to the original images."
      ]
    },
    {
      "cell_type": "code",
      "source": [
        "data_iterator = iter(train_loader)\n",
        "images, labels = data_iterator.next()"
      ],
      "metadata": {
        "id": "4xB5hVkSNG5Y"
      },
      "execution_count": 42,
      "outputs": []
    },
    {
      "cell_type": "code",
      "source": [
        "images_columns = 10\n",
        "images_rows    = 6\n",
        "\n",
        "data_iterator = iter(train_loader)\n",
        "images, labels = data_iterator.next()\n",
        "\n",
        "# Show original images\n",
        "show_grid(images[0:(images_columns * images_rows)], images_columns, images_rows)\n",
        "\n",
        "# Show reconstructed images\n",
        "model.eval()\n",
        "with torch.no_grad():\n",
        "\n",
        "    # TODO: compute reconstruction\n",
        "    images_recon = model(images.to(device))\n",
        "\n",
        "    show_grid(images_recon[0:(images_columns * images_rows)], images_columns, images_rows)\n"
      ],
      "metadata": {
        "id": "MTDAr5xpblEh"
      },
      "execution_count": null,
      "outputs": []
    },
    {
      "cell_type": "markdown",
      "metadata": {
        "id": "dZtUdOloR4z2"
      },
      "source": [
        "### Optimization"
      ]
    },
    {
      "cell_type": "markdown",
      "metadata": {
        "id": "b6btKzA8RzVK"
      },
      "source": [
        "**TASK 3: Explore dimensionality of latent space**\n",
        "\n",
        "How does the dimensionality of latent space (set to 10 by default in our case) affect loss and quality of the reconstructions? Explore smaller and larger latent dimensionality by using 2, 4, 8, 16, 32 dimensions and looking at reconstructions and resulting test set losses."
      ]
    },
    {
      "cell_type": "code",
      "execution_count": 47,
      "metadata": {
        "id": "vp-F4FPsAtxN",
        "colab": {
          "base_uri": "https://localhost:8080/",
          "height": 527
        },
        "outputId": "f6021735-e917-4f02-9ad4-319aca494c98"
      },
      "outputs": [
        {
          "output_type": "display_data",
          "data": {
            "text/plain": [
              "<IPython.core.display.HTML object>"
            ],
            "text/html": [
              "\n",
              "<style>\n",
              "    /* Turns off some styling */\n",
              "    progress {\n",
              "        /* gets rid of default border in Firefox and Opera. */\n",
              "        border: none;\n",
              "        /* Needs to be in here for Safari polyfill so background images work as expected. */\n",
              "        background-size: auto;\n",
              "    }\n",
              "    .progress-bar-interrupted, .progress-bar-interrupted::-webkit-progress-bar {\n",
              "        background: #F44336;\n",
              "    }\n",
              "</style>\n"
            ]
          },
          "metadata": {}
        },
        {
          "output_type": "display_data",
          "data": {
            "text/plain": [
              "<IPython.core.display.HTML object>"
            ],
            "text/html": [
              "\n",
              "    <div>\n",
              "      <progress value='0' class='' max='10' style='width:300px; height:20px; vertical-align: middle;'></progress>\n",
              "      0.00% [0/10 00:00<00:00]\n",
              "    </div>\n",
              "    \n",
              "\n",
              "\n",
              "    <div>\n",
              "      <progress value='0' class='' max='469' style='width:300px; height:20px; vertical-align: middle;'></progress>\n",
              "      0.00% [0/469 00:00<00:00]\n",
              "    </div>\n",
              "    "
            ]
          },
          "metadata": {}
        },
        {
          "output_type": "stream",
          "name": "stdout",
          "text": [
            "i1\n",
            "i2\n"
          ]
        },
        {
          "output_type": "stream",
          "name": "stderr",
          "text": [
            "/usr/local/lib/python3.7/dist-packages/ipykernel_launcher.py:4: UserWarning: Using a target size (torch.Size([128])) that is different to the input size (torch.Size([128, 1, 28, 28])). This will likely lead to incorrect results due to broadcasting. Please ensure they have the same size.\n",
            "  after removing the cwd from sys.path.\n"
          ]
        },
        {
          "output_type": "error",
          "ename": "RuntimeError",
          "evalue": "ignored",
          "traceback": [
            "\u001b[0;31m---------------------------------------------------------------------------\u001b[0m",
            "\u001b[0;31mRuntimeError\u001b[0m                              Traceback (most recent call last)",
            "\u001b[0;32m<ipython-input-47-73786b465fc1>\u001b[0m in \u001b[0;36m<module>\u001b[0;34m()\u001b[0m\n\u001b[1;32m      7\u001b[0m   \u001b[0mvae_model\u001b[0m \u001b[0;34m=\u001b[0m \u001b[0mVAE\u001b[0m\u001b[0;34m(\u001b[0m\u001b[0mlatent_space_dim\u001b[0m \u001b[0;34m=\u001b[0m \u001b[0mi\u001b[0m\u001b[0;34m)\u001b[0m\u001b[0;34m\u001b[0m\u001b[0;34m\u001b[0m\u001b[0m\n\u001b[1;32m      8\u001b[0m   \u001b[0mvae_model\u001b[0m\u001b[0;34m.\u001b[0m\u001b[0mto\u001b[0m\u001b[0;34m(\u001b[0m\u001b[0mdevice\u001b[0m\u001b[0;34m)\u001b[0m\u001b[0;34m\u001b[0m\u001b[0;34m\u001b[0m\u001b[0m\n\u001b[0;32m----> 9\u001b[0;31m   \u001b[0mtrain_losses\u001b[0m\u001b[0;34m,\u001b[0m \u001b[0mval_losses\u001b[0m\u001b[0;34m,\u001b[0m \u001b[0mtrain_accs\u001b[0m\u001b[0;34m,\u001b[0m \u001b[0mval_accs\u001b[0m\u001b[0;34m,\u001b[0m \u001b[0msp\u001b[0m\u001b[0;34m,\u001b[0m \u001b[0mcm\u001b[0m \u001b[0;34m=\u001b[0m \u001b[0mrun_training\u001b[0m\u001b[0;34m(\u001b[0m\u001b[0mvae_model\u001b[0m\u001b[0;34m,\u001b[0m \u001b[0moptimizer\u001b[0m\u001b[0;34m,\u001b[0m \u001b[0mvae_loss\u001b[0m\u001b[0;34m,\u001b[0m \u001b[0mdevice\u001b[0m\u001b[0;34m,\u001b[0m \u001b[0mnum_epochs\u001b[0m\u001b[0;34m=\u001b[0m\u001b[0;36m10\u001b[0m\u001b[0;34m,\u001b[0m\u001b[0mtrain_dataloader\u001b[0m\u001b[0;34m=\u001b[0m\u001b[0mtrain_loader\u001b[0m\u001b[0;34m,\u001b[0m \u001b[0mval_dataloader\u001b[0m\u001b[0;34m=\u001b[0m\u001b[0mtest_loader\u001b[0m\u001b[0;34m)\u001b[0m\u001b[0;34m\u001b[0m\u001b[0;34m\u001b[0m\u001b[0m\n\u001b[0m\u001b[1;32m     10\u001b[0m   \u001b[0mtrainset_losses\u001b[0m\u001b[0;34m.\u001b[0m\u001b[0mappend\u001b[0m\u001b[0;34m(\u001b[0m\u001b[0mtrain_losses\u001b[0m\u001b[0;34m)\u001b[0m\u001b[0;34m\u001b[0m\u001b[0;34m\u001b[0m\u001b[0m\n\u001b[1;32m     11\u001b[0m   \u001b[0mtestset_losses\u001b[0m\u001b[0;34m.\u001b[0m\u001b[0mappend\u001b[0m\u001b[0;34m(\u001b[0m\u001b[0mval_losses\u001b[0m\u001b[0;34m)\u001b[0m\u001b[0;34m\u001b[0m\u001b[0;34m\u001b[0m\u001b[0m\n",
            "\u001b[0;32m<ipython-input-39-581f6f331e94>\u001b[0m in \u001b[0;36mrun_training\u001b[0;34m(model, optimizer, loss_function, device, num_epochs, train_dataloader, val_dataloader, early_stopper, verbose)\u001b[0m\n\u001b[1;32m    139\u001b[0m     \u001b[0;32mfor\u001b[0m \u001b[0mepoch\u001b[0m \u001b[0;32min\u001b[0m \u001b[0mmaster_bar\u001b[0m\u001b[0;34m:\u001b[0m\u001b[0;34m\u001b[0m\u001b[0;34m\u001b[0m\u001b[0m\n\u001b[1;32m    140\u001b[0m         \u001b[0;31m# Train the model\u001b[0m\u001b[0;34m\u001b[0m\u001b[0;34m\u001b[0m\u001b[0;34m\u001b[0m\u001b[0m\n\u001b[0;32m--> 141\u001b[0;31m         \u001b[0mepoch_train_loss\u001b[0m\u001b[0;34m,\u001b[0m \u001b[0mepoch_train_acc\u001b[0m \u001b[0;34m=\u001b[0m \u001b[0mtrain\u001b[0m\u001b[0;34m(\u001b[0m\u001b[0mtrain_dataloader\u001b[0m\u001b[0;34m,\u001b[0m \u001b[0moptimizer\u001b[0m\u001b[0;34m,\u001b[0m \u001b[0mmodel\u001b[0m\u001b[0;34m,\u001b[0m\u001b[0mloss_function\u001b[0m\u001b[0;34m,\u001b[0m \u001b[0mdevice\u001b[0m\u001b[0;34m,\u001b[0m \u001b[0mmaster_bar\u001b[0m\u001b[0;34m)\u001b[0m\u001b[0;34m\u001b[0m\u001b[0;34m\u001b[0m\u001b[0m\n\u001b[0m\u001b[1;32m    142\u001b[0m         \u001b[0;31m# Validate the model\u001b[0m\u001b[0;34m\u001b[0m\u001b[0;34m\u001b[0m\u001b[0;34m\u001b[0m\u001b[0m\n\u001b[1;32m    143\u001b[0m         \u001b[0mepoch_val_loss\u001b[0m\u001b[0;34m,\u001b[0m \u001b[0mepoch_val_acc\u001b[0m\u001b[0;34m,\u001b[0m \u001b[0mconfusion_matrix\u001b[0m \u001b[0;34m=\u001b[0m \u001b[0mvalidate\u001b[0m\u001b[0;34m(\u001b[0m\u001b[0mval_dataloader\u001b[0m\u001b[0;34m,\u001b[0m\u001b[0mmodel\u001b[0m\u001b[0;34m,\u001b[0m \u001b[0mloss_function\u001b[0m\u001b[0;34m,\u001b[0m\u001b[0mdevice\u001b[0m\u001b[0;34m,\u001b[0m \u001b[0mmaster_bar\u001b[0m\u001b[0;34m)\u001b[0m\u001b[0;34m\u001b[0m\u001b[0;34m\u001b[0m\u001b[0m\n",
            "\u001b[0;32m<ipython-input-39-581f6f331e94>\u001b[0m in \u001b[0;36mtrain\u001b[0;34m(dataloader, optimizer, model, loss_fn, device, master_bar)\u001b[0m\n\u001b[1;32m     51\u001b[0m \u001b[0;34m\u001b[0m\u001b[0m\n\u001b[1;32m     52\u001b[0m         \u001b[0;31m# Compute loss\u001b[0m\u001b[0;34m\u001b[0m\u001b[0;34m\u001b[0m\u001b[0;34m\u001b[0m\u001b[0m\n\u001b[0;32m---> 53\u001b[0;31m         \u001b[0mloss\u001b[0m \u001b[0;34m=\u001b[0m \u001b[0mloss_fn\u001b[0m\u001b[0;34m(\u001b[0m\u001b[0my_pred\u001b[0m\u001b[0;34m,\u001b[0m \u001b[0my\u001b[0m\u001b[0;34m.\u001b[0m\u001b[0mto\u001b[0m\u001b[0;34m(\u001b[0m\u001b[0mdevice\u001b[0m\u001b[0;34m)\u001b[0m\u001b[0;34m,\u001b[0m\u001b[0mmu\u001b[0m\u001b[0;34m,\u001b[0m\u001b[0mlogvar\u001b[0m\u001b[0;34m)\u001b[0m\u001b[0;34m\u001b[0m\u001b[0;34m\u001b[0m\u001b[0m\n\u001b[0m\u001b[1;32m     54\u001b[0m \u001b[0;34m\u001b[0m\u001b[0m\n\u001b[1;32m     55\u001b[0m         \u001b[0;31m# Backward pass\u001b[0m\u001b[0;34m\u001b[0m\u001b[0;34m\u001b[0m\u001b[0;34m\u001b[0m\u001b[0m\n",
            "\u001b[0;32m<ipython-input-36-d20c653d23b9>\u001b[0m in \u001b[0;36mvae_loss\u001b[0;34m(recon_x, x, mu, logvar)\u001b[0m\n\u001b[1;32m      2\u001b[0m     \u001b[0;31m# Reconstruction losses are calculated using Mean Squared Error (MSE) and\u001b[0m\u001b[0;34m\u001b[0m\u001b[0;34m\u001b[0m\u001b[0;34m\u001b[0m\u001b[0m\n\u001b[1;32m      3\u001b[0m     \u001b[0;31m# summed over all elements and batch\u001b[0m\u001b[0;34m\u001b[0m\u001b[0;34m\u001b[0m\u001b[0;34m\u001b[0m\u001b[0m\n\u001b[0;32m----> 4\u001b[0;31m     \u001b[0mmse_loss\u001b[0m \u001b[0;34m=\u001b[0m \u001b[0mF\u001b[0m\u001b[0;34m.\u001b[0m\u001b[0mmse_loss\u001b[0m\u001b[0;34m(\u001b[0m\u001b[0mrecon_x\u001b[0m\u001b[0;34m,\u001b[0m \u001b[0mx\u001b[0m\u001b[0;34m)\u001b[0m\u001b[0;34m.\u001b[0m\u001b[0mview\u001b[0m\u001b[0;34m(\u001b[0m\u001b[0mbatch_size\u001b[0m\u001b[0;34m,\u001b[0m\u001b[0;34m-\u001b[0m\u001b[0;36m1\u001b[0m\u001b[0;34m)\u001b[0m\u001b[0;34m.\u001b[0m\u001b[0msum\u001b[0m\u001b[0;34m(\u001b[0m\u001b[0maxis\u001b[0m\u001b[0;34m=\u001b[0m\u001b[0;36m1\u001b[0m\u001b[0;34m)\u001b[0m\u001b[0;34m.\u001b[0m\u001b[0mmean\u001b[0m\u001b[0;34m(\u001b[0m\u001b[0;34m)\u001b[0m\u001b[0;34m\u001b[0m\u001b[0;34m\u001b[0m\u001b[0m\n\u001b[0m\u001b[1;32m      5\u001b[0m \u001b[0;34m\u001b[0m\u001b[0m\n\u001b[1;32m      6\u001b[0m \u001b[0;34m\u001b[0m\u001b[0m\n",
            "\u001b[0;32m/usr/local/lib/python3.7/dist-packages/torch/nn/functional.py\u001b[0m in \u001b[0;36mmse_loss\u001b[0;34m(input, target, size_average, reduce, reduction)\u001b[0m\n\u001b[1;32m   3277\u001b[0m         \u001b[0mreduction\u001b[0m \u001b[0;34m=\u001b[0m \u001b[0m_Reduction\u001b[0m\u001b[0;34m.\u001b[0m\u001b[0mlegacy_get_string\u001b[0m\u001b[0;34m(\u001b[0m\u001b[0msize_average\u001b[0m\u001b[0;34m,\u001b[0m \u001b[0mreduce\u001b[0m\u001b[0;34m)\u001b[0m\u001b[0;34m\u001b[0m\u001b[0;34m\u001b[0m\u001b[0m\n\u001b[1;32m   3278\u001b[0m \u001b[0;34m\u001b[0m\u001b[0m\n\u001b[0;32m-> 3279\u001b[0;31m     \u001b[0mexpanded_input\u001b[0m\u001b[0;34m,\u001b[0m \u001b[0mexpanded_target\u001b[0m \u001b[0;34m=\u001b[0m \u001b[0mtorch\u001b[0m\u001b[0;34m.\u001b[0m\u001b[0mbroadcast_tensors\u001b[0m\u001b[0;34m(\u001b[0m\u001b[0minput\u001b[0m\u001b[0;34m,\u001b[0m \u001b[0mtarget\u001b[0m\u001b[0;34m)\u001b[0m\u001b[0;34m\u001b[0m\u001b[0;34m\u001b[0m\u001b[0m\n\u001b[0m\u001b[1;32m   3280\u001b[0m     \u001b[0;32mreturn\u001b[0m \u001b[0mtorch\u001b[0m\u001b[0;34m.\u001b[0m\u001b[0m_C\u001b[0m\u001b[0;34m.\u001b[0m\u001b[0m_nn\u001b[0m\u001b[0;34m.\u001b[0m\u001b[0mmse_loss\u001b[0m\u001b[0;34m(\u001b[0m\u001b[0mexpanded_input\u001b[0m\u001b[0;34m,\u001b[0m \u001b[0mexpanded_target\u001b[0m\u001b[0;34m,\u001b[0m \u001b[0m_Reduction\u001b[0m\u001b[0;34m.\u001b[0m\u001b[0mget_enum\u001b[0m\u001b[0;34m(\u001b[0m\u001b[0mreduction\u001b[0m\u001b[0;34m)\u001b[0m\u001b[0;34m)\u001b[0m\u001b[0;34m\u001b[0m\u001b[0;34m\u001b[0m\u001b[0m\n\u001b[1;32m   3281\u001b[0m \u001b[0;34m\u001b[0m\u001b[0m\n",
            "\u001b[0;32m/usr/local/lib/python3.7/dist-packages/torch/functional.py\u001b[0m in \u001b[0;36mbroadcast_tensors\u001b[0;34m(*tensors)\u001b[0m\n\u001b[1;32m     71\u001b[0m     \u001b[0;32mif\u001b[0m \u001b[0mhas_torch_function\u001b[0m\u001b[0;34m(\u001b[0m\u001b[0mtensors\u001b[0m\u001b[0;34m)\u001b[0m\u001b[0;34m:\u001b[0m\u001b[0;34m\u001b[0m\u001b[0;34m\u001b[0m\u001b[0m\n\u001b[1;32m     72\u001b[0m         \u001b[0;32mreturn\u001b[0m \u001b[0mhandle_torch_function\u001b[0m\u001b[0;34m(\u001b[0m\u001b[0mbroadcast_tensors\u001b[0m\u001b[0;34m,\u001b[0m \u001b[0mtensors\u001b[0m\u001b[0;34m,\u001b[0m \u001b[0;34m*\u001b[0m\u001b[0mtensors\u001b[0m\u001b[0;34m)\u001b[0m\u001b[0;34m\u001b[0m\u001b[0;34m\u001b[0m\u001b[0m\n\u001b[0;32m---> 73\u001b[0;31m     \u001b[0;32mreturn\u001b[0m \u001b[0m_VF\u001b[0m\u001b[0;34m.\u001b[0m\u001b[0mbroadcast_tensors\u001b[0m\u001b[0;34m(\u001b[0m\u001b[0mtensors\u001b[0m\u001b[0;34m)\u001b[0m  \u001b[0;31m# type: ignore[attr-defined]\u001b[0m\u001b[0;34m\u001b[0m\u001b[0;34m\u001b[0m\u001b[0m\n\u001b[0m\u001b[1;32m     74\u001b[0m \u001b[0;34m\u001b[0m\u001b[0m\n\u001b[1;32m     75\u001b[0m \u001b[0;34m\u001b[0m\u001b[0m\n",
            "\u001b[0;31mRuntimeError\u001b[0m: The size of tensor a (28) must match the size of tensor b (128) at non-singleton dimension 3"
          ]
        }
      ],
      "source": [
        "# TODO\n",
        "latent_space_dim = [2,4,8,16,32]\n",
        "optimizer = torch.optim.Adam(model.parameters(), lr = learning_rate)\n",
        "trainset_losses = []\n",
        "testset_losses = []\n",
        "for i in latent_space_dim:\n",
        "  vae_model = VAE(latent_space_dim = i)\n",
        "  vae_model.to(device)\n",
        "  train_losses, val_losses, train_accs, val_accs, sp, cm = run_training(vae_model, optimizer, vae_loss, device, num_epochs=10,train_dataloader=train_loader, val_dataloader=test_loader)\n",
        "  trainset_losses.append(train_losses)  \n",
        "  testset_losses.append(val_losses)\n",
        "\n",
        "  \n",
        "\n",
        "  "
      ]
    },
    {
      "cell_type": "markdown",
      "metadata": {
        "id": "-QB--L53dJX0"
      },
      "source": [
        "## Visualization of latent traversals"
      ]
    },
    {
      "cell_type": "markdown",
      "metadata": {
        "id": "04i1OlkTTMBs"
      },
      "source": [
        "**TASK 4: Plot some latent traversals**\n",
        "\n",
        "Latent traversal is a popular approach to visualize the disentangled latent representations. Given a bunch of variations in a single unit of the latent representation, it is expected that there is a change in a single factor of variation of the data while others are fixed. (See paper [Learning Disentangled Representations with Latent Variation Predictability](https://arxiv.org/abs/2007.12885))\n",
        "\n",
        "Remember in the previous task you trained models with different latent dimensions. Each shape is encoded into a `latent_dim`-sized vector. In this task we want to see which shapes are reconstructed if we create a latent code where we set\n",
        "\n",
        "- one of these dimensions (e.g. dim1=11) to different values ($x_i \\in [-3,3]$)\n",
        "- two of these dimensions (e.g. dim1=31, dim2=4) to different values ($x_i, x_j \\in [-3,3]$)\n",
        "\n",
        "while setting all other values of the latent code to $0$. Use the decoder of the VAE neural network to create images from these latent codes.\n",
        "\n",
        "**TODO** Create a 1 x 10 array plot for the first visualization and a 10 x 10 matrix plot for the second showing latent space travels.\n",
        "\n",
        "**TODO** Repeat the experiment, now setting the other dimensions of the vector to a random value in [-1,1] instead of zero. Write down what you observe."
      ]
    },
    {
      "cell_type": "markdown",
      "metadata": {
        "id": "P4q750uPa4s1"
      },
      "source": [
        "Here are two examples.\n",
        "\n",
        "1x10 traversal of one latent dimension\n",
        "\n",
        "![image.png](data:image/png;base64,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)\n",
        "\n",
        "10x10 traversal of two latent dimensions\n",
        "\n",
        "![10x10 traversal of two latent dimensions](https://i.imgur.com/hZXIYzv.png)"
      ]
    },
    {
      "cell_type": "code",
      "execution_count": null,
      "metadata": {
        "id": "vrVVH9VX4kxN"
      },
      "outputs": [],
      "source": [
        "# TODO"
      ]
    },
    {
      "cell_type": "markdown",
      "metadata": {
        "id": "O8UkfqvMdaPx"
      },
      "source": [
        "### Visualize class labels in latent space"
      ]
    },
    {
      "cell_type": "markdown",
      "metadata": {
        "id": "qXTs7humzfFJ"
      },
      "source": [
        "**TASK 5: Visualize class labels in latent space**\n",
        "\n",
        "First create a new VAE-model with a 2d latent space on the full training data set. Then project all the images of the training set into the 2d latent space keeping track of their class labels. Use a 2d scatter plot to visualize the resulting latent space vectors and different colors for their labels. \n",
        "\n",
        "- Do images of the same class cluster in latent space?\n",
        "- Do the data points in latent space look like a normal distribution?"
      ]
    },
    {
      "cell_type": "markdown",
      "metadata": {
        "id": "vD3CKQimqa4L"
      },
      "source": [
        "#### Train 2d latent space model"
      ]
    },
    {
      "cell_type": "code",
      "execution_count": null,
      "metadata": {
        "id": "BwrLqEUGqa4L"
      },
      "outputs": [],
      "source": [
        "# TODO"
      ]
    },
    {
      "cell_type": "markdown",
      "metadata": {
        "id": "KoY6mExK3DJE"
      },
      "source": [
        "#### Visualize classes"
      ]
    },
    {
      "cell_type": "code",
      "execution_count": null,
      "metadata": {
        "id": "PtLXiXC_8VeX"
      },
      "outputs": [],
      "source": [
        "# TODO"
      ]
    },
    {
      "cell_type": "markdown",
      "metadata": {
        "id": "PdEWFl_0_dKc"
      },
      "source": [
        "## Appendix [OPTIONAL]"
      ]
    },
    {
      "cell_type": "markdown",
      "metadata": {
        "id": "EhhFQYAuczK_"
      },
      "source": [
        "Use standard MNIST or CIFAR-10 instead of fashion MNIST."
      ]
    },
    {
      "cell_type": "code",
      "execution_count": null,
      "metadata": {
        "id": "IfzNWP0JekgF"
      },
      "outputs": [],
      "source": [
        "transform = transforms.Compose([ \n",
        "               transforms.Resize(image_size),\n",
        "                transforms.ToTensor(),\n",
        "               transforms.Normalize((0.1307,), (0.3081,))\n",
        "            ])\n",
        "\n",
        "train_dataset = datasets.MNIST(data_dir, train=True, download=True, transform=transform)\n",
        "test_dataset  = datasets.MNIST(data_dir, train=False, transform=transforms.ToTensor())"
      ]
    }
  ],
  "metadata": {
    "accelerator": "GPU",
    "colab": {
      "collapsed_sections": [],
      "name": "Ex6_2022.ipynb",
      "provenance": []
    },
    "kernelspec": {
      "display_name": "Python 3 (ipykernel)",
      "language": "python",
      "name": "python3"
    },
    "language_info": {
      "codemirror_mode": {
        "name": "ipython",
        "version": 3
      },
      "file_extension": ".py",
      "mimetype": "text/x-python",
      "name": "python",
      "nbconvert_exporter": "python",
      "pygments_lexer": "ipython3",
      "version": "3.9.7"
    },
    "widgets": {
      "application/vnd.jupyter.widget-state+json": {
        "2df343edbe6a4da4b38cdeb3ca15de64": {
          "model_module": "@jupyter-widgets/controls",
          "model_name": "HBoxModel",
          "model_module_version": "1.5.0",
          "state": {
            "_dom_classes": [],
            "_model_module": "@jupyter-widgets/controls",
            "_model_module_version": "1.5.0",
            "_model_name": "HBoxModel",
            "_view_count": null,
            "_view_module": "@jupyter-widgets/controls",
            "_view_module_version": "1.5.0",
            "_view_name": "HBoxView",
            "box_style": "",
            "children": [
              "IPY_MODEL_4bd93ae267964f9c834361459dcfe117",
              "IPY_MODEL_f7a70f1edc0240adaef9e9da5829a136",
              "IPY_MODEL_f0c48a5a9a434353a14a41884b451feb"
            ],
            "layout": "IPY_MODEL_bc0742056e2f40a6981791dc6d13faf5"
          }
        },
        "4bd93ae267964f9c834361459dcfe117": {
          "model_module": "@jupyter-widgets/controls",
          "model_name": "HTMLModel",
          "model_module_version": "1.5.0",
          "state": {
            "_dom_classes": [],
            "_model_module": "@jupyter-widgets/controls",
            "_model_module_version": "1.5.0",
            "_model_name": "HTMLModel",
            "_view_count": null,
            "_view_module": "@jupyter-widgets/controls",
            "_view_module_version": "1.5.0",
            "_view_name": "HTMLView",
            "description": "",
            "description_tooltip": null,
            "layout": "IPY_MODEL_8477585a96fb460b88973f73ff68bf64",
            "placeholder": "​",
            "style": "IPY_MODEL_b2ff2c33301f4fdaa5ce05429fc5919a",
            "value": "100%"
          }
        },
        "f7a70f1edc0240adaef9e9da5829a136": {
          "model_module": "@jupyter-widgets/controls",
          "model_name": "FloatProgressModel",
          "model_module_version": "1.5.0",
          "state": {
            "_dom_classes": [],
            "_model_module": "@jupyter-widgets/controls",
            "_model_module_version": "1.5.0",
            "_model_name": "FloatProgressModel",
            "_view_count": null,
            "_view_module": "@jupyter-widgets/controls",
            "_view_module_version": "1.5.0",
            "_view_name": "ProgressView",
            "bar_style": "success",
            "description": "",
            "description_tooltip": null,
            "layout": "IPY_MODEL_89cf74921c294d8683cffe6eabba298e",
            "max": 26421880,
            "min": 0,
            "orientation": "horizontal",
            "style": "IPY_MODEL_7ab8f3630c3348a6aa86e6b5223e5604",
            "value": 26421880
          }
        },
        "f0c48a5a9a434353a14a41884b451feb": {
          "model_module": "@jupyter-widgets/controls",
          "model_name": "HTMLModel",
          "model_module_version": "1.5.0",
          "state": {
            "_dom_classes": [],
            "_model_module": "@jupyter-widgets/controls",
            "_model_module_version": "1.5.0",
            "_model_name": "HTMLModel",
            "_view_count": null,
            "_view_module": "@jupyter-widgets/controls",
            "_view_module_version": "1.5.0",
            "_view_name": "HTMLView",
            "description": "",
            "description_tooltip": null,
            "layout": "IPY_MODEL_d3b411de73e9433a9830e07c23cfc695",
            "placeholder": "​",
            "style": "IPY_MODEL_ae4bf424c14e408bb7f22781e006d01e",
            "value": " 26421880/26421880 [00:02&lt;00:00, 18611039.78it/s]"
          }
        },
        "bc0742056e2f40a6981791dc6d13faf5": {
          "model_module": "@jupyter-widgets/base",
          "model_name": "LayoutModel",
          "model_module_version": "1.2.0",
          "state": {
            "_model_module": "@jupyter-widgets/base",
            "_model_module_version": "1.2.0",
            "_model_name": "LayoutModel",
            "_view_count": null,
            "_view_module": "@jupyter-widgets/base",
            "_view_module_version": "1.2.0",
            "_view_name": "LayoutView",
            "align_content": null,
            "align_items": null,
            "align_self": null,
            "border": null,
            "bottom": null,
            "display": null,
            "flex": null,
            "flex_flow": null,
            "grid_area": null,
            "grid_auto_columns": null,
            "grid_auto_flow": null,
            "grid_auto_rows": null,
            "grid_column": null,
            "grid_gap": null,
            "grid_row": null,
            "grid_template_areas": null,
            "grid_template_columns": null,
            "grid_template_rows": null,
            "height": null,
            "justify_content": null,
            "justify_items": null,
            "left": null,
            "margin": null,
            "max_height": null,
            "max_width": null,
            "min_height": null,
            "min_width": null,
            "object_fit": null,
            "object_position": null,
            "order": null,
            "overflow": null,
            "overflow_x": null,
            "overflow_y": null,
            "padding": null,
            "right": null,
            "top": null,
            "visibility": null,
            "width": null
          }
        },
        "8477585a96fb460b88973f73ff68bf64": {
          "model_module": "@jupyter-widgets/base",
          "model_name": "LayoutModel",
          "model_module_version": "1.2.0",
          "state": {
            "_model_module": "@jupyter-widgets/base",
            "_model_module_version": "1.2.0",
            "_model_name": "LayoutModel",
            "_view_count": null,
            "_view_module": "@jupyter-widgets/base",
            "_view_module_version": "1.2.0",
            "_view_name": "LayoutView",
            "align_content": null,
            "align_items": null,
            "align_self": null,
            "border": null,
            "bottom": null,
            "display": null,
            "flex": null,
            "flex_flow": null,
            "grid_area": null,
            "grid_auto_columns": null,
            "grid_auto_flow": null,
            "grid_auto_rows": null,
            "grid_column": null,
            "grid_gap": null,
            "grid_row": null,
            "grid_template_areas": null,
            "grid_template_columns": null,
            "grid_template_rows": null,
            "height": null,
            "justify_content": null,
            "justify_items": null,
            "left": null,
            "margin": null,
            "max_height": null,
            "max_width": null,
            "min_height": null,
            "min_width": null,
            "object_fit": null,
            "object_position": null,
            "order": null,
            "overflow": null,
            "overflow_x": null,
            "overflow_y": null,
            "padding": null,
            "right": null,
            "top": null,
            "visibility": null,
            "width": null
          }
        },
        "b2ff2c33301f4fdaa5ce05429fc5919a": {
          "model_module": "@jupyter-widgets/controls",
          "model_name": "DescriptionStyleModel",
          "model_module_version": "1.5.0",
          "state": {
            "_model_module": "@jupyter-widgets/controls",
            "_model_module_version": "1.5.0",
            "_model_name": "DescriptionStyleModel",
            "_view_count": null,
            "_view_module": "@jupyter-widgets/base",
            "_view_module_version": "1.2.0",
            "_view_name": "StyleView",
            "description_width": ""
          }
        },
        "89cf74921c294d8683cffe6eabba298e": {
          "model_module": "@jupyter-widgets/base",
          "model_name": "LayoutModel",
          "model_module_version": "1.2.0",
          "state": {
            "_model_module": "@jupyter-widgets/base",
            "_model_module_version": "1.2.0",
            "_model_name": "LayoutModel",
            "_view_count": null,
            "_view_module": "@jupyter-widgets/base",
            "_view_module_version": "1.2.0",
            "_view_name": "LayoutView",
            "align_content": null,
            "align_items": null,
            "align_self": null,
            "border": null,
            "bottom": null,
            "display": null,
            "flex": null,
            "flex_flow": null,
            "grid_area": null,
            "grid_auto_columns": null,
            "grid_auto_flow": null,
            "grid_auto_rows": null,
            "grid_column": null,
            "grid_gap": null,
            "grid_row": null,
            "grid_template_areas": null,
            "grid_template_columns": null,
            "grid_template_rows": null,
            "height": null,
            "justify_content": null,
            "justify_items": null,
            "left": null,
            "margin": null,
            "max_height": null,
            "max_width": null,
            "min_height": null,
            "min_width": null,
            "object_fit": null,
            "object_position": null,
            "order": null,
            "overflow": null,
            "overflow_x": null,
            "overflow_y": null,
            "padding": null,
            "right": null,
            "top": null,
            "visibility": null,
            "width": null
          }
        },
        "7ab8f3630c3348a6aa86e6b5223e5604": {
          "model_module": "@jupyter-widgets/controls",
          "model_name": "ProgressStyleModel",
          "model_module_version": "1.5.0",
          "state": {
            "_model_module": "@jupyter-widgets/controls",
            "_model_module_version": "1.5.0",
            "_model_name": "ProgressStyleModel",
            "_view_count": null,
            "_view_module": "@jupyter-widgets/base",
            "_view_module_version": "1.2.0",
            "_view_name": "StyleView",
            "bar_color": null,
            "description_width": ""
          }
        },
        "d3b411de73e9433a9830e07c23cfc695": {
          "model_module": "@jupyter-widgets/base",
          "model_name": "LayoutModel",
          "model_module_version": "1.2.0",
          "state": {
            "_model_module": "@jupyter-widgets/base",
            "_model_module_version": "1.2.0",
            "_model_name": "LayoutModel",
            "_view_count": null,
            "_view_module": "@jupyter-widgets/base",
            "_view_module_version": "1.2.0",
            "_view_name": "LayoutView",
            "align_content": null,
            "align_items": null,
            "align_self": null,
            "border": null,
            "bottom": null,
            "display": null,
            "flex": null,
            "flex_flow": null,
            "grid_area": null,
            "grid_auto_columns": null,
            "grid_auto_flow": null,
            "grid_auto_rows": null,
            "grid_column": null,
            "grid_gap": null,
            "grid_row": null,
            "grid_template_areas": null,
            "grid_template_columns": null,
            "grid_template_rows": null,
            "height": null,
            "justify_content": null,
            "justify_items": null,
            "left": null,
            "margin": null,
            "max_height": null,
            "max_width": null,
            "min_height": null,
            "min_width": null,
            "object_fit": null,
            "object_position": null,
            "order": null,
            "overflow": null,
            "overflow_x": null,
            "overflow_y": null,
            "padding": null,
            "right": null,
            "top": null,
            "visibility": null,
            "width": null
          }
        },
        "ae4bf424c14e408bb7f22781e006d01e": {
          "model_module": "@jupyter-widgets/controls",
          "model_name": "DescriptionStyleModel",
          "model_module_version": "1.5.0",
          "state": {
            "_model_module": "@jupyter-widgets/controls",
            "_model_module_version": "1.5.0",
            "_model_name": "DescriptionStyleModel",
            "_view_count": null,
            "_view_module": "@jupyter-widgets/base",
            "_view_module_version": "1.2.0",
            "_view_name": "StyleView",
            "description_width": ""
          }
        },
        "e7a51be334da424d89dca9e6c5873897": {
          "model_module": "@jupyter-widgets/controls",
          "model_name": "HBoxModel",
          "model_module_version": "1.5.0",
          "state": {
            "_dom_classes": [],
            "_model_module": "@jupyter-widgets/controls",
            "_model_module_version": "1.5.0",
            "_model_name": "HBoxModel",
            "_view_count": null,
            "_view_module": "@jupyter-widgets/controls",
            "_view_module_version": "1.5.0",
            "_view_name": "HBoxView",
            "box_style": "",
            "children": [
              "IPY_MODEL_427e11d463ff4ec0b34cf25631ac6bb5",
              "IPY_MODEL_4c4ea315b89741409a4ae7e5e4dd9542",
              "IPY_MODEL_2f56dbc9b14148899310c9584fd5ad2c"
            ],
            "layout": "IPY_MODEL_96f8b46bf7e8472c98069d6c3fcc7479"
          }
        },
        "427e11d463ff4ec0b34cf25631ac6bb5": {
          "model_module": "@jupyter-widgets/controls",
          "model_name": "HTMLModel",
          "model_module_version": "1.5.0",
          "state": {
            "_dom_classes": [],
            "_model_module": "@jupyter-widgets/controls",
            "_model_module_version": "1.5.0",
            "_model_name": "HTMLModel",
            "_view_count": null,
            "_view_module": "@jupyter-widgets/controls",
            "_view_module_version": "1.5.0",
            "_view_name": "HTMLView",
            "description": "",
            "description_tooltip": null,
            "layout": "IPY_MODEL_12262ff811374e478817047b8633586b",
            "placeholder": "​",
            "style": "IPY_MODEL_d8048b4ed79049a28e3a4f3bb075e60c",
            "value": "100%"
          }
        },
        "4c4ea315b89741409a4ae7e5e4dd9542": {
          "model_module": "@jupyter-widgets/controls",
          "model_name": "FloatProgressModel",
          "model_module_version": "1.5.0",
          "state": {
            "_dom_classes": [],
            "_model_module": "@jupyter-widgets/controls",
            "_model_module_version": "1.5.0",
            "_model_name": "FloatProgressModel",
            "_view_count": null,
            "_view_module": "@jupyter-widgets/controls",
            "_view_module_version": "1.5.0",
            "_view_name": "ProgressView",
            "bar_style": "success",
            "description": "",
            "description_tooltip": null,
            "layout": "IPY_MODEL_1bed9332710f434ab18bfdd8d5752ece",
            "max": 29515,
            "min": 0,
            "orientation": "horizontal",
            "style": "IPY_MODEL_693948644d3a45838ed592fdeca27043",
            "value": 29515
          }
        },
        "2f56dbc9b14148899310c9584fd5ad2c": {
          "model_module": "@jupyter-widgets/controls",
          "model_name": "HTMLModel",
          "model_module_version": "1.5.0",
          "state": {
            "_dom_classes": [],
            "_model_module": "@jupyter-widgets/controls",
            "_model_module_version": "1.5.0",
            "_model_name": "HTMLModel",
            "_view_count": null,
            "_view_module": "@jupyter-widgets/controls",
            "_view_module_version": "1.5.0",
            "_view_name": "HTMLView",
            "description": "",
            "description_tooltip": null,
            "layout": "IPY_MODEL_ec94c560035e42598f712830f4dc01e4",
            "placeholder": "​",
            "style": "IPY_MODEL_551c3b25d246427b9f99f563d47a5ce9",
            "value": " 29515/29515 [00:00&lt;00:00, 212028.00it/s]"
          }
        },
        "96f8b46bf7e8472c98069d6c3fcc7479": {
          "model_module": "@jupyter-widgets/base",
          "model_name": "LayoutModel",
          "model_module_version": "1.2.0",
          "state": {
            "_model_module": "@jupyter-widgets/base",
            "_model_module_version": "1.2.0",
            "_model_name": "LayoutModel",
            "_view_count": null,
            "_view_module": "@jupyter-widgets/base",
            "_view_module_version": "1.2.0",
            "_view_name": "LayoutView",
            "align_content": null,
            "align_items": null,
            "align_self": null,
            "border": null,
            "bottom": null,
            "display": null,
            "flex": null,
            "flex_flow": null,
            "grid_area": null,
            "grid_auto_columns": null,
            "grid_auto_flow": null,
            "grid_auto_rows": null,
            "grid_column": null,
            "grid_gap": null,
            "grid_row": null,
            "grid_template_areas": null,
            "grid_template_columns": null,
            "grid_template_rows": null,
            "height": null,
            "justify_content": null,
            "justify_items": null,
            "left": null,
            "margin": null,
            "max_height": null,
            "max_width": null,
            "min_height": null,
            "min_width": null,
            "object_fit": null,
            "object_position": null,
            "order": null,
            "overflow": null,
            "overflow_x": null,
            "overflow_y": null,
            "padding": null,
            "right": null,
            "top": null,
            "visibility": null,
            "width": null
          }
        },
        "12262ff811374e478817047b8633586b": {
          "model_module": "@jupyter-widgets/base",
          "model_name": "LayoutModel",
          "model_module_version": "1.2.0",
          "state": {
            "_model_module": "@jupyter-widgets/base",
            "_model_module_version": "1.2.0",
            "_model_name": "LayoutModel",
            "_view_count": null,
            "_view_module": "@jupyter-widgets/base",
            "_view_module_version": "1.2.0",
            "_view_name": "LayoutView",
            "align_content": null,
            "align_items": null,
            "align_self": null,
            "border": null,
            "bottom": null,
            "display": null,
            "flex": null,
            "flex_flow": null,
            "grid_area": null,
            "grid_auto_columns": null,
            "grid_auto_flow": null,
            "grid_auto_rows": null,
            "grid_column": null,
            "grid_gap": null,
            "grid_row": null,
            "grid_template_areas": null,
            "grid_template_columns": null,
            "grid_template_rows": null,
            "height": null,
            "justify_content": null,
            "justify_items": null,
            "left": null,
            "margin": null,
            "max_height": null,
            "max_width": null,
            "min_height": null,
            "min_width": null,
            "object_fit": null,
            "object_position": null,
            "order": null,
            "overflow": null,
            "overflow_x": null,
            "overflow_y": null,
            "padding": null,
            "right": null,
            "top": null,
            "visibility": null,
            "width": null
          }
        },
        "d8048b4ed79049a28e3a4f3bb075e60c": {
          "model_module": "@jupyter-widgets/controls",
          "model_name": "DescriptionStyleModel",
          "model_module_version": "1.5.0",
          "state": {
            "_model_module": "@jupyter-widgets/controls",
            "_model_module_version": "1.5.0",
            "_model_name": "DescriptionStyleModel",
            "_view_count": null,
            "_view_module": "@jupyter-widgets/base",
            "_view_module_version": "1.2.0",
            "_view_name": "StyleView",
            "description_width": ""
          }
        },
        "1bed9332710f434ab18bfdd8d5752ece": {
          "model_module": "@jupyter-widgets/base",
          "model_name": "LayoutModel",
          "model_module_version": "1.2.0",
          "state": {
            "_model_module": "@jupyter-widgets/base",
            "_model_module_version": "1.2.0",
            "_model_name": "LayoutModel",
            "_view_count": null,
            "_view_module": "@jupyter-widgets/base",
            "_view_module_version": "1.2.0",
            "_view_name": "LayoutView",
            "align_content": null,
            "align_items": null,
            "align_self": null,
            "border": null,
            "bottom": null,
            "display": null,
            "flex": null,
            "flex_flow": null,
            "grid_area": null,
            "grid_auto_columns": null,
            "grid_auto_flow": null,
            "grid_auto_rows": null,
            "grid_column": null,
            "grid_gap": null,
            "grid_row": null,
            "grid_template_areas": null,
            "grid_template_columns": null,
            "grid_template_rows": null,
            "height": null,
            "justify_content": null,
            "justify_items": null,
            "left": null,
            "margin": null,
            "max_height": null,
            "max_width": null,
            "min_height": null,
            "min_width": null,
            "object_fit": null,
            "object_position": null,
            "order": null,
            "overflow": null,
            "overflow_x": null,
            "overflow_y": null,
            "padding": null,
            "right": null,
            "top": null,
            "visibility": null,
            "width": null
          }
        },
        "693948644d3a45838ed592fdeca27043": {
          "model_module": "@jupyter-widgets/controls",
          "model_name": "ProgressStyleModel",
          "model_module_version": "1.5.0",
          "state": {
            "_model_module": "@jupyter-widgets/controls",
            "_model_module_version": "1.5.0",
            "_model_name": "ProgressStyleModel",
            "_view_count": null,
            "_view_module": "@jupyter-widgets/base",
            "_view_module_version": "1.2.0",
            "_view_name": "StyleView",
            "bar_color": null,
            "description_width": ""
          }
        },
        "ec94c560035e42598f712830f4dc01e4": {
          "model_module": "@jupyter-widgets/base",
          "model_name": "LayoutModel",
          "model_module_version": "1.2.0",
          "state": {
            "_model_module": "@jupyter-widgets/base",
            "_model_module_version": "1.2.0",
            "_model_name": "LayoutModel",
            "_view_count": null,
            "_view_module": "@jupyter-widgets/base",
            "_view_module_version": "1.2.0",
            "_view_name": "LayoutView",
            "align_content": null,
            "align_items": null,
            "align_self": null,
            "border": null,
            "bottom": null,
            "display": null,
            "flex": null,
            "flex_flow": null,
            "grid_area": null,
            "grid_auto_columns": null,
            "grid_auto_flow": null,
            "grid_auto_rows": null,
            "grid_column": null,
            "grid_gap": null,
            "grid_row": null,
            "grid_template_areas": null,
            "grid_template_columns": null,
            "grid_template_rows": null,
            "height": null,
            "justify_content": null,
            "justify_items": null,
            "left": null,
            "margin": null,
            "max_height": null,
            "max_width": null,
            "min_height": null,
            "min_width": null,
            "object_fit": null,
            "object_position": null,
            "order": null,
            "overflow": null,
            "overflow_x": null,
            "overflow_y": null,
            "padding": null,
            "right": null,
            "top": null,
            "visibility": null,
            "width": null
          }
        },
        "551c3b25d246427b9f99f563d47a5ce9": {
          "model_module": "@jupyter-widgets/controls",
          "model_name": "DescriptionStyleModel",
          "model_module_version": "1.5.0",
          "state": {
            "_model_module": "@jupyter-widgets/controls",
            "_model_module_version": "1.5.0",
            "_model_name": "DescriptionStyleModel",
            "_view_count": null,
            "_view_module": "@jupyter-widgets/base",
            "_view_module_version": "1.2.0",
            "_view_name": "StyleView",
            "description_width": ""
          }
        },
        "48e046c95ca94a34b39f2077bec882ff": {
          "model_module": "@jupyter-widgets/controls",
          "model_name": "HBoxModel",
          "model_module_version": "1.5.0",
          "state": {
            "_dom_classes": [],
            "_model_module": "@jupyter-widgets/controls",
            "_model_module_version": "1.5.0",
            "_model_name": "HBoxModel",
            "_view_count": null,
            "_view_module": "@jupyter-widgets/controls",
            "_view_module_version": "1.5.0",
            "_view_name": "HBoxView",
            "box_style": "",
            "children": [
              "IPY_MODEL_694a8cd935d4436db007c06ddb7a6b2b",
              "IPY_MODEL_371157fb8f0b4b619b4fea3474adc4d4",
              "IPY_MODEL_4d0df2486747440d972fcf2e88ac499c"
            ],
            "layout": "IPY_MODEL_b4af95e006384405aa40f223cfd6f7a8"
          }
        },
        "694a8cd935d4436db007c06ddb7a6b2b": {
          "model_module": "@jupyter-widgets/controls",
          "model_name": "HTMLModel",
          "model_module_version": "1.5.0",
          "state": {
            "_dom_classes": [],
            "_model_module": "@jupyter-widgets/controls",
            "_model_module_version": "1.5.0",
            "_model_name": "HTMLModel",
            "_view_count": null,
            "_view_module": "@jupyter-widgets/controls",
            "_view_module_version": "1.5.0",
            "_view_name": "HTMLView",
            "description": "",
            "description_tooltip": null,
            "layout": "IPY_MODEL_7bb66da654384930806c448cc5a0c213",
            "placeholder": "​",
            "style": "IPY_MODEL_098234e8292f4ba6b2977c1f0c44f75d",
            "value": "100%"
          }
        },
        "371157fb8f0b4b619b4fea3474adc4d4": {
          "model_module": "@jupyter-widgets/controls",
          "model_name": "FloatProgressModel",
          "model_module_version": "1.5.0",
          "state": {
            "_dom_classes": [],
            "_model_module": "@jupyter-widgets/controls",
            "_model_module_version": "1.5.0",
            "_model_name": "FloatProgressModel",
            "_view_count": null,
            "_view_module": "@jupyter-widgets/controls",
            "_view_module_version": "1.5.0",
            "_view_name": "ProgressView",
            "bar_style": "success",
            "description": "",
            "description_tooltip": null,
            "layout": "IPY_MODEL_2f30a1cf43b1485c95a538bcfdce79a1",
            "max": 4422102,
            "min": 0,
            "orientation": "horizontal",
            "style": "IPY_MODEL_625ffdae30604430833253256a7113e0",
            "value": 4422102
          }
        },
        "4d0df2486747440d972fcf2e88ac499c": {
          "model_module": "@jupyter-widgets/controls",
          "model_name": "HTMLModel",
          "model_module_version": "1.5.0",
          "state": {
            "_dom_classes": [],
            "_model_module": "@jupyter-widgets/controls",
            "_model_module_version": "1.5.0",
            "_model_name": "HTMLModel",
            "_view_count": null,
            "_view_module": "@jupyter-widgets/controls",
            "_view_module_version": "1.5.0",
            "_view_name": "HTMLView",
            "description": "",
            "description_tooltip": null,
            "layout": "IPY_MODEL_6421d08b48084fd4b2dcf6394c067277",
            "placeholder": "​",
            "style": "IPY_MODEL_df1d60fce81149c19a7203f425a243f3",
            "value": " 4422102/4422102 [00:01&lt;00:00, 6619048.93it/s]"
          }
        },
        "b4af95e006384405aa40f223cfd6f7a8": {
          "model_module": "@jupyter-widgets/base",
          "model_name": "LayoutModel",
          "model_module_version": "1.2.0",
          "state": {
            "_model_module": "@jupyter-widgets/base",
            "_model_module_version": "1.2.0",
            "_model_name": "LayoutModel",
            "_view_count": null,
            "_view_module": "@jupyter-widgets/base",
            "_view_module_version": "1.2.0",
            "_view_name": "LayoutView",
            "align_content": null,
            "align_items": null,
            "align_self": null,
            "border": null,
            "bottom": null,
            "display": null,
            "flex": null,
            "flex_flow": null,
            "grid_area": null,
            "grid_auto_columns": null,
            "grid_auto_flow": null,
            "grid_auto_rows": null,
            "grid_column": null,
            "grid_gap": null,
            "grid_row": null,
            "grid_template_areas": null,
            "grid_template_columns": null,
            "grid_template_rows": null,
            "height": null,
            "justify_content": null,
            "justify_items": null,
            "left": null,
            "margin": null,
            "max_height": null,
            "max_width": null,
            "min_height": null,
            "min_width": null,
            "object_fit": null,
            "object_position": null,
            "order": null,
            "overflow": null,
            "overflow_x": null,
            "overflow_y": null,
            "padding": null,
            "right": null,
            "top": null,
            "visibility": null,
            "width": null
          }
        },
        "7bb66da654384930806c448cc5a0c213": {
          "model_module": "@jupyter-widgets/base",
          "model_name": "LayoutModel",
          "model_module_version": "1.2.0",
          "state": {
            "_model_module": "@jupyter-widgets/base",
            "_model_module_version": "1.2.0",
            "_model_name": "LayoutModel",
            "_view_count": null,
            "_view_module": "@jupyter-widgets/base",
            "_view_module_version": "1.2.0",
            "_view_name": "LayoutView",
            "align_content": null,
            "align_items": null,
            "align_self": null,
            "border": null,
            "bottom": null,
            "display": null,
            "flex": null,
            "flex_flow": null,
            "grid_area": null,
            "grid_auto_columns": null,
            "grid_auto_flow": null,
            "grid_auto_rows": null,
            "grid_column": null,
            "grid_gap": null,
            "grid_row": null,
            "grid_template_areas": null,
            "grid_template_columns": null,
            "grid_template_rows": null,
            "height": null,
            "justify_content": null,
            "justify_items": null,
            "left": null,
            "margin": null,
            "max_height": null,
            "max_width": null,
            "min_height": null,
            "min_width": null,
            "object_fit": null,
            "object_position": null,
            "order": null,
            "overflow": null,
            "overflow_x": null,
            "overflow_y": null,
            "padding": null,
            "right": null,
            "top": null,
            "visibility": null,
            "width": null
          }
        },
        "098234e8292f4ba6b2977c1f0c44f75d": {
          "model_module": "@jupyter-widgets/controls",
          "model_name": "DescriptionStyleModel",
          "model_module_version": "1.5.0",
          "state": {
            "_model_module": "@jupyter-widgets/controls",
            "_model_module_version": "1.5.0",
            "_model_name": "DescriptionStyleModel",
            "_view_count": null,
            "_view_module": "@jupyter-widgets/base",
            "_view_module_version": "1.2.0",
            "_view_name": "StyleView",
            "description_width": ""
          }
        },
        "2f30a1cf43b1485c95a538bcfdce79a1": {
          "model_module": "@jupyter-widgets/base",
          "model_name": "LayoutModel",
          "model_module_version": "1.2.0",
          "state": {
            "_model_module": "@jupyter-widgets/base",
            "_model_module_version": "1.2.0",
            "_model_name": "LayoutModel",
            "_view_count": null,
            "_view_module": "@jupyter-widgets/base",
            "_view_module_version": "1.2.0",
            "_view_name": "LayoutView",
            "align_content": null,
            "align_items": null,
            "align_self": null,
            "border": null,
            "bottom": null,
            "display": null,
            "flex": null,
            "flex_flow": null,
            "grid_area": null,
            "grid_auto_columns": null,
            "grid_auto_flow": null,
            "grid_auto_rows": null,
            "grid_column": null,
            "grid_gap": null,
            "grid_row": null,
            "grid_template_areas": null,
            "grid_template_columns": null,
            "grid_template_rows": null,
            "height": null,
            "justify_content": null,
            "justify_items": null,
            "left": null,
            "margin": null,
            "max_height": null,
            "max_width": null,
            "min_height": null,
            "min_width": null,
            "object_fit": null,
            "object_position": null,
            "order": null,
            "overflow": null,
            "overflow_x": null,
            "overflow_y": null,
            "padding": null,
            "right": null,
            "top": null,
            "visibility": null,
            "width": null
          }
        },
        "625ffdae30604430833253256a7113e0": {
          "model_module": "@jupyter-widgets/controls",
          "model_name": "ProgressStyleModel",
          "model_module_version": "1.5.0",
          "state": {
            "_model_module": "@jupyter-widgets/controls",
            "_model_module_version": "1.5.0",
            "_model_name": "ProgressStyleModel",
            "_view_count": null,
            "_view_module": "@jupyter-widgets/base",
            "_view_module_version": "1.2.0",
            "_view_name": "StyleView",
            "bar_color": null,
            "description_width": ""
          }
        },
        "6421d08b48084fd4b2dcf6394c067277": {
          "model_module": "@jupyter-widgets/base",
          "model_name": "LayoutModel",
          "model_module_version": "1.2.0",
          "state": {
            "_model_module": "@jupyter-widgets/base",
            "_model_module_version": "1.2.0",
            "_model_name": "LayoutModel",
            "_view_count": null,
            "_view_module": "@jupyter-widgets/base",
            "_view_module_version": "1.2.0",
            "_view_name": "LayoutView",
            "align_content": null,
            "align_items": null,
            "align_self": null,
            "border": null,
            "bottom": null,
            "display": null,
            "flex": null,
            "flex_flow": null,
            "grid_area": null,
            "grid_auto_columns": null,
            "grid_auto_flow": null,
            "grid_auto_rows": null,
            "grid_column": null,
            "grid_gap": null,
            "grid_row": null,
            "grid_template_areas": null,
            "grid_template_columns": null,
            "grid_template_rows": null,
            "height": null,
            "justify_content": null,
            "justify_items": null,
            "left": null,
            "margin": null,
            "max_height": null,
            "max_width": null,
            "min_height": null,
            "min_width": null,
            "object_fit": null,
            "object_position": null,
            "order": null,
            "overflow": null,
            "overflow_x": null,
            "overflow_y": null,
            "padding": null,
            "right": null,
            "top": null,
            "visibility": null,
            "width": null
          }
        },
        "df1d60fce81149c19a7203f425a243f3": {
          "model_module": "@jupyter-widgets/controls",
          "model_name": "DescriptionStyleModel",
          "model_module_version": "1.5.0",
          "state": {
            "_model_module": "@jupyter-widgets/controls",
            "_model_module_version": "1.5.0",
            "_model_name": "DescriptionStyleModel",
            "_view_count": null,
            "_view_module": "@jupyter-widgets/base",
            "_view_module_version": "1.2.0",
            "_view_name": "StyleView",
            "description_width": ""
          }
        },
        "ec07a43a243546d7a3e0de3e640c7352": {
          "model_module": "@jupyter-widgets/controls",
          "model_name": "HBoxModel",
          "model_module_version": "1.5.0",
          "state": {
            "_dom_classes": [],
            "_model_module": "@jupyter-widgets/controls",
            "_model_module_version": "1.5.0",
            "_model_name": "HBoxModel",
            "_view_count": null,
            "_view_module": "@jupyter-widgets/controls",
            "_view_module_version": "1.5.0",
            "_view_name": "HBoxView",
            "box_style": "",
            "children": [
              "IPY_MODEL_ac629d04bed74d5f84ce9021b5db118f",
              "IPY_MODEL_ca47b4f3e7824a6a96e9fd9ba46dbd71",
              "IPY_MODEL_492cdb703a4d49a0a02801988805fe10"
            ],
            "layout": "IPY_MODEL_4ccfab31f2904d1185262775f1ccf546"
          }
        },
        "ac629d04bed74d5f84ce9021b5db118f": {
          "model_module": "@jupyter-widgets/controls",
          "model_name": "HTMLModel",
          "model_module_version": "1.5.0",
          "state": {
            "_dom_classes": [],
            "_model_module": "@jupyter-widgets/controls",
            "_model_module_version": "1.5.0",
            "_model_name": "HTMLModel",
            "_view_count": null,
            "_view_module": "@jupyter-widgets/controls",
            "_view_module_version": "1.5.0",
            "_view_name": "HTMLView",
            "description": "",
            "description_tooltip": null,
            "layout": "IPY_MODEL_9778cf4829bb4d698466f8f09279ce82",
            "placeholder": "​",
            "style": "IPY_MODEL_de4591e46cdd4b69b530956e9bdb52b5",
            "value": "100%"
          }
        },
        "ca47b4f3e7824a6a96e9fd9ba46dbd71": {
          "model_module": "@jupyter-widgets/controls",
          "model_name": "FloatProgressModel",
          "model_module_version": "1.5.0",
          "state": {
            "_dom_classes": [],
            "_model_module": "@jupyter-widgets/controls",
            "_model_module_version": "1.5.0",
            "_model_name": "FloatProgressModel",
            "_view_count": null,
            "_view_module": "@jupyter-widgets/controls",
            "_view_module_version": "1.5.0",
            "_view_name": "ProgressView",
            "bar_style": "success",
            "description": "",
            "description_tooltip": null,
            "layout": "IPY_MODEL_00cb7e4bddc84d109fa14743fa881675",
            "max": 5148,
            "min": 0,
            "orientation": "horizontal",
            "style": "IPY_MODEL_7cd1fcd714b54e68872a016e1b3d3e4f",
            "value": 5148
          }
        },
        "492cdb703a4d49a0a02801988805fe10": {
          "model_module": "@jupyter-widgets/controls",
          "model_name": "HTMLModel",
          "model_module_version": "1.5.0",
          "state": {
            "_dom_classes": [],
            "_model_module": "@jupyter-widgets/controls",
            "_model_module_version": "1.5.0",
            "_model_name": "HTMLModel",
            "_view_count": null,
            "_view_module": "@jupyter-widgets/controls",
            "_view_module_version": "1.5.0",
            "_view_name": "HTMLView",
            "description": "",
            "description_tooltip": null,
            "layout": "IPY_MODEL_84a1a7f89c194e4fbca3e841ebbfa349",
            "placeholder": "​",
            "style": "IPY_MODEL_8accb6ce36394f708bdea00229bb6f36",
            "value": " 5148/5148 [00:00&lt;00:00, 47762.92it/s]"
          }
        },
        "4ccfab31f2904d1185262775f1ccf546": {
          "model_module": "@jupyter-widgets/base",
          "model_name": "LayoutModel",
          "model_module_version": "1.2.0",
          "state": {
            "_model_module": "@jupyter-widgets/base",
            "_model_module_version": "1.2.0",
            "_model_name": "LayoutModel",
            "_view_count": null,
            "_view_module": "@jupyter-widgets/base",
            "_view_module_version": "1.2.0",
            "_view_name": "LayoutView",
            "align_content": null,
            "align_items": null,
            "align_self": null,
            "border": null,
            "bottom": null,
            "display": null,
            "flex": null,
            "flex_flow": null,
            "grid_area": null,
            "grid_auto_columns": null,
            "grid_auto_flow": null,
            "grid_auto_rows": null,
            "grid_column": null,
            "grid_gap": null,
            "grid_row": null,
            "grid_template_areas": null,
            "grid_template_columns": null,
            "grid_template_rows": null,
            "height": null,
            "justify_content": null,
            "justify_items": null,
            "left": null,
            "margin": null,
            "max_height": null,
            "max_width": null,
            "min_height": null,
            "min_width": null,
            "object_fit": null,
            "object_position": null,
            "order": null,
            "overflow": null,
            "overflow_x": null,
            "overflow_y": null,
            "padding": null,
            "right": null,
            "top": null,
            "visibility": null,
            "width": null
          }
        },
        "9778cf4829bb4d698466f8f09279ce82": {
          "model_module": "@jupyter-widgets/base",
          "model_name": "LayoutModel",
          "model_module_version": "1.2.0",
          "state": {
            "_model_module": "@jupyter-widgets/base",
            "_model_module_version": "1.2.0",
            "_model_name": "LayoutModel",
            "_view_count": null,
            "_view_module": "@jupyter-widgets/base",
            "_view_module_version": "1.2.0",
            "_view_name": "LayoutView",
            "align_content": null,
            "align_items": null,
            "align_self": null,
            "border": null,
            "bottom": null,
            "display": null,
            "flex": null,
            "flex_flow": null,
            "grid_area": null,
            "grid_auto_columns": null,
            "grid_auto_flow": null,
            "grid_auto_rows": null,
            "grid_column": null,
            "grid_gap": null,
            "grid_row": null,
            "grid_template_areas": null,
            "grid_template_columns": null,
            "grid_template_rows": null,
            "height": null,
            "justify_content": null,
            "justify_items": null,
            "left": null,
            "margin": null,
            "max_height": null,
            "max_width": null,
            "min_height": null,
            "min_width": null,
            "object_fit": null,
            "object_position": null,
            "order": null,
            "overflow": null,
            "overflow_x": null,
            "overflow_y": null,
            "padding": null,
            "right": null,
            "top": null,
            "visibility": null,
            "width": null
          }
        },
        "de4591e46cdd4b69b530956e9bdb52b5": {
          "model_module": "@jupyter-widgets/controls",
          "model_name": "DescriptionStyleModel",
          "model_module_version": "1.5.0",
          "state": {
            "_model_module": "@jupyter-widgets/controls",
            "_model_module_version": "1.5.0",
            "_model_name": "DescriptionStyleModel",
            "_view_count": null,
            "_view_module": "@jupyter-widgets/base",
            "_view_module_version": "1.2.0",
            "_view_name": "StyleView",
            "description_width": ""
          }
        },
        "00cb7e4bddc84d109fa14743fa881675": {
          "model_module": "@jupyter-widgets/base",
          "model_name": "LayoutModel",
          "model_module_version": "1.2.0",
          "state": {
            "_model_module": "@jupyter-widgets/base",
            "_model_module_version": "1.2.0",
            "_model_name": "LayoutModel",
            "_view_count": null,
            "_view_module": "@jupyter-widgets/base",
            "_view_module_version": "1.2.0",
            "_view_name": "LayoutView",
            "align_content": null,
            "align_items": null,
            "align_self": null,
            "border": null,
            "bottom": null,
            "display": null,
            "flex": null,
            "flex_flow": null,
            "grid_area": null,
            "grid_auto_columns": null,
            "grid_auto_flow": null,
            "grid_auto_rows": null,
            "grid_column": null,
            "grid_gap": null,
            "grid_row": null,
            "grid_template_areas": null,
            "grid_template_columns": null,
            "grid_template_rows": null,
            "height": null,
            "justify_content": null,
            "justify_items": null,
            "left": null,
            "margin": null,
            "max_height": null,
            "max_width": null,
            "min_height": null,
            "min_width": null,
            "object_fit": null,
            "object_position": null,
            "order": null,
            "overflow": null,
            "overflow_x": null,
            "overflow_y": null,
            "padding": null,
            "right": null,
            "top": null,
            "visibility": null,
            "width": null
          }
        },
        "7cd1fcd714b54e68872a016e1b3d3e4f": {
          "model_module": "@jupyter-widgets/controls",
          "model_name": "ProgressStyleModel",
          "model_module_version": "1.5.0",
          "state": {
            "_model_module": "@jupyter-widgets/controls",
            "_model_module_version": "1.5.0",
            "_model_name": "ProgressStyleModel",
            "_view_count": null,
            "_view_module": "@jupyter-widgets/base",
            "_view_module_version": "1.2.0",
            "_view_name": "StyleView",
            "bar_color": null,
            "description_width": ""
          }
        },
        "84a1a7f89c194e4fbca3e841ebbfa349": {
          "model_module": "@jupyter-widgets/base",
          "model_name": "LayoutModel",
          "model_module_version": "1.2.0",
          "state": {
            "_model_module": "@jupyter-widgets/base",
            "_model_module_version": "1.2.0",
            "_model_name": "LayoutModel",
            "_view_count": null,
            "_view_module": "@jupyter-widgets/base",
            "_view_module_version": "1.2.0",
            "_view_name": "LayoutView",
            "align_content": null,
            "align_items": null,
            "align_self": null,
            "border": null,
            "bottom": null,
            "display": null,
            "flex": null,
            "flex_flow": null,
            "grid_area": null,
            "grid_auto_columns": null,
            "grid_auto_flow": null,
            "grid_auto_rows": null,
            "grid_column": null,
            "grid_gap": null,
            "grid_row": null,
            "grid_template_areas": null,
            "grid_template_columns": null,
            "grid_template_rows": null,
            "height": null,
            "justify_content": null,
            "justify_items": null,
            "left": null,
            "margin": null,
            "max_height": null,
            "max_width": null,
            "min_height": null,
            "min_width": null,
            "object_fit": null,
            "object_position": null,
            "order": null,
            "overflow": null,
            "overflow_x": null,
            "overflow_y": null,
            "padding": null,
            "right": null,
            "top": null,
            "visibility": null,
            "width": null
          }
        },
        "8accb6ce36394f708bdea00229bb6f36": {
          "model_module": "@jupyter-widgets/controls",
          "model_name": "DescriptionStyleModel",
          "model_module_version": "1.5.0",
          "state": {
            "_model_module": "@jupyter-widgets/controls",
            "_model_module_version": "1.5.0",
            "_model_name": "DescriptionStyleModel",
            "_view_count": null,
            "_view_module": "@jupyter-widgets/base",
            "_view_module_version": "1.2.0",
            "_view_name": "StyleView",
            "description_width": ""
          }
        }
      }
    }
  },
  "nbformat": 4,
  "nbformat_minor": 0
}